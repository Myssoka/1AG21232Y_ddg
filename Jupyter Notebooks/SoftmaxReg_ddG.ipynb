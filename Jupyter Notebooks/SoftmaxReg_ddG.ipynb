{
 "cells": [
  {
   "cell_type": "markdown",
   "id": "428280bc-ea47-4f4d-a290-b5f21288aee0",
   "metadata": {},
   "source": [
    "## FireProtDB - ddG Target Class (Multiclass classification) - Softmax Regression Classifier ##"
   ]
  },
  {
   "cell_type": "code",
   "execution_count": 1,
   "id": "baf55fdd-a4b7-4931-85a4-3e1ddd88ff0e",
   "metadata": {},
   "outputs": [
    {
     "name": "stdout",
     "output_type": "stream",
     "text": [
      "Setup Complete\n"
     ]
    }
   ],
   "source": [
    "#Initial setup\n",
    "import numpy as np\n",
    "import pandas as pd\n",
    "import matplotlib.pyplot as plt\n",
    "import seaborn as sns\n",
    "%matplotlib inline\n",
    "\n",
    "from sklearn.model_selection import GridSearchCV, cross_val_score\n",
    "from sklearn.linear_model import LogisticRegression\n",
    "\n",
    "import warnings \n",
    "warnings.filterwarnings(\"ignore\")\n",
    "\n",
    "print(\"Setup Complete\")"
   ]
  },
  {
   "cell_type": "code",
   "execution_count": 2,
   "id": "0c90388a-0617-4534-be16-465322acb2cb",
   "metadata": {},
   "outputs": [
    {
     "name": "stdout",
     "output_type": "stream",
     "text": [
      "Index(['protein_name', 'uniprot_id', 'ddG', 'secondary_structure', 'asa',\n",
      "       'b_factor', 'pH', 'sequence', 'Aliphatic Index', 'Instability index',\n",
      "       'Isoelectric point', 'Hydrophobicity', 'Aromaticity', 'MEC',\n",
      "       'Molecular weight', 'Fraction helix', 'Fraction turn', 'Fraction sheet',\n",
      "       'target_class'],\n",
      "      dtype='object')\n"
     ]
    },
    {
     "data": {
      "text/html": [
       "<div>\n",
       "<style scoped>\n",
       "    .dataframe tbody tr th:only-of-type {\n",
       "        vertical-align: middle;\n",
       "    }\n",
       "\n",
       "    .dataframe tbody tr th {\n",
       "        vertical-align: top;\n",
       "    }\n",
       "\n",
       "    .dataframe thead th {\n",
       "        text-align: right;\n",
       "    }\n",
       "</style>\n",
       "<table border=\"1\" class=\"dataframe\">\n",
       "  <thead>\n",
       "    <tr style=\"text-align: right;\">\n",
       "      <th></th>\n",
       "      <th>protein_name</th>\n",
       "      <th>uniprot_id</th>\n",
       "      <th>ddG</th>\n",
       "      <th>secondary_structure</th>\n",
       "      <th>asa</th>\n",
       "      <th>b_factor</th>\n",
       "      <th>pH</th>\n",
       "      <th>sequence</th>\n",
       "      <th>Aliphatic Index</th>\n",
       "      <th>Instability index</th>\n",
       "      <th>Isoelectric point</th>\n",
       "      <th>Hydrophobicity</th>\n",
       "      <th>Aromaticity</th>\n",
       "      <th>MEC</th>\n",
       "      <th>Molecular weight</th>\n",
       "      <th>Fraction helix</th>\n",
       "      <th>Fraction turn</th>\n",
       "      <th>Fraction sheet</th>\n",
       "      <th>target_class</th>\n",
       "    </tr>\n",
       "  </thead>\n",
       "  <tbody>\n",
       "    <tr>\n",
       "      <th>0</th>\n",
       "      <td>Interleukin-1 beta</td>\n",
       "      <td>P01584</td>\n",
       "      <td>0.8</td>\n",
       "      <td>E</td>\n",
       "      <td>5.27</td>\n",
       "      <td>17.64</td>\n",
       "      <td>6.5</td>\n",
       "      <td>MAEVPELASEMMAYYSGNEDDLFFEADGPKQMKCSFQDLDLCPLDG...</td>\n",
       "      <td>71.003717</td>\n",
       "      <td>53.863197</td>\n",
       "      <td>4.704188</td>\n",
       "      <td>-0.420074</td>\n",
       "      <td>0.111524</td>\n",
       "      <td>22920</td>\n",
       "      <td>30747.5732</td>\n",
       "      <td>0.334572</td>\n",
       "      <td>0.301115</td>\n",
       "      <td>0.330855</td>\n",
       "      <td>0</td>\n",
       "    </tr>\n",
       "    <tr>\n",
       "      <th>1</th>\n",
       "      <td>Interleukin-1 beta</td>\n",
       "      <td>P01584</td>\n",
       "      <td>0.7</td>\n",
       "      <td>E</td>\n",
       "      <td>5.27</td>\n",
       "      <td>17.64</td>\n",
       "      <td>6.5</td>\n",
       "      <td>MAEVPELASEMMAYYSGNEDDLFFEADGPKQMKCSFQDLDLCPLDG...</td>\n",
       "      <td>71.003717</td>\n",
       "      <td>53.863197</td>\n",
       "      <td>4.704188</td>\n",
       "      <td>-0.420074</td>\n",
       "      <td>0.111524</td>\n",
       "      <td>22920</td>\n",
       "      <td>30747.5732</td>\n",
       "      <td>0.334572</td>\n",
       "      <td>0.301115</td>\n",
       "      <td>0.330855</td>\n",
       "      <td>0</td>\n",
       "    </tr>\n",
       "    <tr>\n",
       "      <th>2</th>\n",
       "      <td>Interleukin-1 beta</td>\n",
       "      <td>P01584</td>\n",
       "      <td>1.9</td>\n",
       "      <td>E</td>\n",
       "      <td>5.27</td>\n",
       "      <td>17.64</td>\n",
       "      <td>6.5</td>\n",
       "      <td>MAEVPELASEMMAYYSGNEDDLFFEADGPKQMKCSFQDLDLCPLDG...</td>\n",
       "      <td>71.003717</td>\n",
       "      <td>53.863197</td>\n",
       "      <td>4.704188</td>\n",
       "      <td>-0.420074</td>\n",
       "      <td>0.111524</td>\n",
       "      <td>22920</td>\n",
       "      <td>30747.5732</td>\n",
       "      <td>0.334572</td>\n",
       "      <td>0.301115</td>\n",
       "      <td>0.330855</td>\n",
       "      <td>1</td>\n",
       "    </tr>\n",
       "    <tr>\n",
       "      <th>3</th>\n",
       "      <td>Interleukin-1 beta</td>\n",
       "      <td>P01584</td>\n",
       "      <td>2.6</td>\n",
       "      <td>E</td>\n",
       "      <td>5.27</td>\n",
       "      <td>17.64</td>\n",
       "      <td>6.5</td>\n",
       "      <td>MAEVPELASEMMAYYSGNEDDLFFEADGPKQMKCSFQDLDLCPLDG...</td>\n",
       "      <td>71.003717</td>\n",
       "      <td>53.863197</td>\n",
       "      <td>4.704188</td>\n",
       "      <td>-0.420074</td>\n",
       "      <td>0.111524</td>\n",
       "      <td>22920</td>\n",
       "      <td>30747.5732</td>\n",
       "      <td>0.334572</td>\n",
       "      <td>0.301115</td>\n",
       "      <td>0.330855</td>\n",
       "      <td>1</td>\n",
       "    </tr>\n",
       "    <tr>\n",
       "      <th>4</th>\n",
       "      <td>Interleukin-1 beta</td>\n",
       "      <td>P01584</td>\n",
       "      <td>0.5</td>\n",
       "      <td>G</td>\n",
       "      <td>87.91</td>\n",
       "      <td>34.91</td>\n",
       "      <td>6.5</td>\n",
       "      <td>MAEVPELASEMMAYYSGNEDDLFFEADGPKQMKCSFQDLDLCPLDG...</td>\n",
       "      <td>71.003717</td>\n",
       "      <td>53.863197</td>\n",
       "      <td>4.704188</td>\n",
       "      <td>-0.420074</td>\n",
       "      <td>0.111524</td>\n",
       "      <td>22920</td>\n",
       "      <td>30747.5732</td>\n",
       "      <td>0.334572</td>\n",
       "      <td>0.301115</td>\n",
       "      <td>0.330855</td>\n",
       "      <td>0</td>\n",
       "    </tr>\n",
       "  </tbody>\n",
       "</table>\n",
       "</div>"
      ],
      "text/plain": [
       "         protein_name uniprot_id  ddG secondary_structure    asa  b_factor  \\\n",
       "0  Interleukin-1 beta     P01584  0.8                   E   5.27     17.64   \n",
       "1  Interleukin-1 beta     P01584  0.7                   E   5.27     17.64   \n",
       "2  Interleukin-1 beta     P01584  1.9                   E   5.27     17.64   \n",
       "3  Interleukin-1 beta     P01584  2.6                   E   5.27     17.64   \n",
       "4  Interleukin-1 beta     P01584  0.5                   G  87.91     34.91   \n",
       "\n",
       "    pH                                           sequence  Aliphatic Index  \\\n",
       "0  6.5  MAEVPELASEMMAYYSGNEDDLFFEADGPKQMKCSFQDLDLCPLDG...        71.003717   \n",
       "1  6.5  MAEVPELASEMMAYYSGNEDDLFFEADGPKQMKCSFQDLDLCPLDG...        71.003717   \n",
       "2  6.5  MAEVPELASEMMAYYSGNEDDLFFEADGPKQMKCSFQDLDLCPLDG...        71.003717   \n",
       "3  6.5  MAEVPELASEMMAYYSGNEDDLFFEADGPKQMKCSFQDLDLCPLDG...        71.003717   \n",
       "4  6.5  MAEVPELASEMMAYYSGNEDDLFFEADGPKQMKCSFQDLDLCPLDG...        71.003717   \n",
       "\n",
       "   Instability index  Isoelectric point  Hydrophobicity  Aromaticity    MEC  \\\n",
       "0          53.863197           4.704188       -0.420074     0.111524  22920   \n",
       "1          53.863197           4.704188       -0.420074     0.111524  22920   \n",
       "2          53.863197           4.704188       -0.420074     0.111524  22920   \n",
       "3          53.863197           4.704188       -0.420074     0.111524  22920   \n",
       "4          53.863197           4.704188       -0.420074     0.111524  22920   \n",
       "\n",
       "   Molecular weight  Fraction helix  Fraction turn  Fraction sheet  \\\n",
       "0        30747.5732        0.334572       0.301115        0.330855   \n",
       "1        30747.5732        0.334572       0.301115        0.330855   \n",
       "2        30747.5732        0.334572       0.301115        0.330855   \n",
       "3        30747.5732        0.334572       0.301115        0.330855   \n",
       "4        30747.5732        0.334572       0.301115        0.330855   \n",
       "\n",
       "   target_class  \n",
       "0             0  \n",
       "1             0  \n",
       "2             1  \n",
       "3             1  \n",
       "4             0  "
      ]
     },
     "execution_count": 2,
     "metadata": {},
     "output_type": "execute_result"
    }
   ],
   "source": [
    "ddG_df = pd.read_csv('Apr10FireProtDB_FeatGen_targetclass.csv')\n",
    "print(ddG_df.columns)\n",
    "ddG_df.head()"
   ]
  },
  {
   "cell_type": "code",
   "execution_count": 5,
   "id": "fd3bf50e-4786-42b0-bd4d-6843a3eeeba2",
   "metadata": {},
   "outputs": [],
   "source": [
    "ddG_df = ddG_df.dropna()\n",
    "ddG_df = ddG_df.drop(['protein_name',\n",
    "                      'uniprot_id',\n",
    "                      'ddG',\n",
    "                      'secondary_structure',\n",
    "                      'sequence',\n",
    "                      'MEC',\n",
    "                      'Aliphatic Index'], axis=1)\n",
    "\n",
    "y = ddG_df['target_class']\n",
    "X = ddG_df.drop(['target_class'], axis=1)"
   ]
  },
  {
   "cell_type": "code",
   "execution_count": 6,
   "id": "97bbeca6-7056-4756-91cc-3868ffdc8829",
   "metadata": {},
   "outputs": [
    {
     "name": "stdout",
     "output_type": "stream",
     "text": [
      "(3261, 12)\n"
     ]
    },
    {
     "data": {
      "text/html": [
       "<div>\n",
       "<style scoped>\n",
       "    .dataframe tbody tr th:only-of-type {\n",
       "        vertical-align: middle;\n",
       "    }\n",
       "\n",
       "    .dataframe tbody tr th {\n",
       "        vertical-align: top;\n",
       "    }\n",
       "\n",
       "    .dataframe thead th {\n",
       "        text-align: right;\n",
       "    }\n",
       "</style>\n",
       "<table border=\"1\" class=\"dataframe\">\n",
       "  <thead>\n",
       "    <tr style=\"text-align: right;\">\n",
       "      <th></th>\n",
       "      <th>asa</th>\n",
       "      <th>b_factor</th>\n",
       "      <th>pH</th>\n",
       "      <th>Instability index</th>\n",
       "      <th>Isoelectric point</th>\n",
       "      <th>Hydrophobicity</th>\n",
       "      <th>Aromaticity</th>\n",
       "      <th>Molecular weight</th>\n",
       "      <th>Fraction helix</th>\n",
       "      <th>Fraction turn</th>\n",
       "      <th>Fraction sheet</th>\n",
       "      <th>target_class</th>\n",
       "    </tr>\n",
       "  </thead>\n",
       "  <tbody>\n",
       "    <tr>\n",
       "      <th>0</th>\n",
       "      <td>5.27</td>\n",
       "      <td>17.64</td>\n",
       "      <td>6.5</td>\n",
       "      <td>53.863197</td>\n",
       "      <td>4.704188</td>\n",
       "      <td>-0.420074</td>\n",
       "      <td>0.111524</td>\n",
       "      <td>30747.5732</td>\n",
       "      <td>0.334572</td>\n",
       "      <td>0.301115</td>\n",
       "      <td>0.330855</td>\n",
       "      <td>0</td>\n",
       "    </tr>\n",
       "    <tr>\n",
       "      <th>1</th>\n",
       "      <td>5.27</td>\n",
       "      <td>17.64</td>\n",
       "      <td>6.5</td>\n",
       "      <td>53.863197</td>\n",
       "      <td>4.704188</td>\n",
       "      <td>-0.420074</td>\n",
       "      <td>0.111524</td>\n",
       "      <td>30747.5732</td>\n",
       "      <td>0.334572</td>\n",
       "      <td>0.301115</td>\n",
       "      <td>0.330855</td>\n",
       "      <td>0</td>\n",
       "    </tr>\n",
       "    <tr>\n",
       "      <th>2</th>\n",
       "      <td>5.27</td>\n",
       "      <td>17.64</td>\n",
       "      <td>6.5</td>\n",
       "      <td>53.863197</td>\n",
       "      <td>4.704188</td>\n",
       "      <td>-0.420074</td>\n",
       "      <td>0.111524</td>\n",
       "      <td>30747.5732</td>\n",
       "      <td>0.334572</td>\n",
       "      <td>0.301115</td>\n",
       "      <td>0.330855</td>\n",
       "      <td>1</td>\n",
       "    </tr>\n",
       "    <tr>\n",
       "      <th>3</th>\n",
       "      <td>5.27</td>\n",
       "      <td>17.64</td>\n",
       "      <td>6.5</td>\n",
       "      <td>53.863197</td>\n",
       "      <td>4.704188</td>\n",
       "      <td>-0.420074</td>\n",
       "      <td>0.111524</td>\n",
       "      <td>30747.5732</td>\n",
       "      <td>0.334572</td>\n",
       "      <td>0.301115</td>\n",
       "      <td>0.330855</td>\n",
       "      <td>1</td>\n",
       "    </tr>\n",
       "    <tr>\n",
       "      <th>4</th>\n",
       "      <td>87.91</td>\n",
       "      <td>34.91</td>\n",
       "      <td>6.5</td>\n",
       "      <td>53.863197</td>\n",
       "      <td>4.704188</td>\n",
       "      <td>-0.420074</td>\n",
       "      <td>0.111524</td>\n",
       "      <td>30747.5732</td>\n",
       "      <td>0.334572</td>\n",
       "      <td>0.301115</td>\n",
       "      <td>0.330855</td>\n",
       "      <td>0</td>\n",
       "    </tr>\n",
       "  </tbody>\n",
       "</table>\n",
       "</div>"
      ],
      "text/plain": [
       "     asa  b_factor   pH  Instability index  Isoelectric point  Hydrophobicity  \\\n",
       "0   5.27     17.64  6.5          53.863197           4.704188       -0.420074   \n",
       "1   5.27     17.64  6.5          53.863197           4.704188       -0.420074   \n",
       "2   5.27     17.64  6.5          53.863197           4.704188       -0.420074   \n",
       "3   5.27     17.64  6.5          53.863197           4.704188       -0.420074   \n",
       "4  87.91     34.91  6.5          53.863197           4.704188       -0.420074   \n",
       "\n",
       "   Aromaticity  Molecular weight  Fraction helix  Fraction turn  \\\n",
       "0     0.111524        30747.5732        0.334572       0.301115   \n",
       "1     0.111524        30747.5732        0.334572       0.301115   \n",
       "2     0.111524        30747.5732        0.334572       0.301115   \n",
       "3     0.111524        30747.5732        0.334572       0.301115   \n",
       "4     0.111524        30747.5732        0.334572       0.301115   \n",
       "\n",
       "   Fraction sheet  target_class  \n",
       "0        0.330855             0  \n",
       "1        0.330855             0  \n",
       "2        0.330855             1  \n",
       "3        0.330855             1  \n",
       "4        0.330855             0  "
      ]
     },
     "execution_count": 6,
     "metadata": {},
     "output_type": "execute_result"
    }
   ],
   "source": [
    "print(ddG_df.shape)\n",
    "ddG_df.head()"
   ]
  },
  {
   "cell_type": "markdown",
   "id": "62772edb-a846-4382-ba8f-a4bf9e314254",
   "metadata": {},
   "source": [
    "## MinMaxScaler ##"
   ]
  },
  {
   "cell_type": "code",
   "execution_count": 14,
   "id": "d5282155-5ccc-48f2-ae8a-cae81c22f73d",
   "metadata": {},
   "outputs": [],
   "source": [
    "# from sklearn.preprocessing import MinMaxScaler\n",
    "\n",
    "# scaler = MinMaxScaler()\n",
    "\n",
    "# X_train = scaler.fit_transform(X_train)\n",
    "# X_test = scaler.transform(X_test)\n",
    "# X_train = pd.DataFrame(X_train, columns = [cols])\n",
    "# X_test = pd.DataFrame(X_test, columns = [cols])"
   ]
  },
  {
   "cell_type": "markdown",
   "id": "51c771b8-b3ff-44d1-9b81-cf6eb2590316",
   "metadata": {},
   "source": [
    "## Test size 20% ##"
   ]
  },
  {
   "cell_type": "code",
   "execution_count": 11,
   "id": "49f59059-5126-4287-acd5-ca4bba1f5596",
   "metadata": {},
   "outputs": [
    {
     "name": "stdout",
     "output_type": "stream",
     "text": [
      "Model (test set) accuracy score: 0.736600\n",
      "Model (train set) accuracy score: 0.716258\n"
     ]
    }
   ],
   "source": [
    "from sklearn.model_selection import train_test_split\n",
    "X_train, X_test, y_train, y_test = train_test_split(X, y, test_size = 0.2, random_state = 0)\n",
    "\n",
    "cols = X_train.columns\n",
    "\n",
    "from sklearn.linear_model import LogisticRegression\n",
    "logreg = LogisticRegression(random_state=0)\n",
    "logreg.fit(X_train, y_train)\n",
    "\n",
    "from sklearn.metrics import accuracy_score\n",
    "\n",
    "#Testing set accuracy\n",
    "y_pred_test = logreg.predict(X_test)\n",
    "print('Model (test set) accuracy score: {0:04f}'.format(accuracy_score(y_test, y_pred_test)))\n",
    "#Training set accuracy\n",
    "y_pred_train = logreg.predict(X_train)\n",
    "print('Model (train set) accuracy score: {0:04f}'.format(accuracy_score(y_train, y_pred_train)))"
   ]
  },
  {
   "cell_type": "markdown",
   "id": "b9c435a7-46e9-49f6-89ed-29e349bfb29b",
   "metadata": {},
   "source": [
    "## Test size 30% ##"
   ]
  },
  {
   "cell_type": "code",
   "execution_count": 16,
   "id": "967772a9-c747-4086-adba-5e621bc33552",
   "metadata": {},
   "outputs": [
    {
     "name": "stdout",
     "output_type": "stream",
     "text": [
      "Model (test set) accuracy score: 0.722165\n",
      "Model (train set) accuracy score: 0.718230\n"
     ]
    }
   ],
   "source": [
    "from sklearn.model_selection import train_test_split\n",
    "X_train, X_test, y_train, y_test = train_test_split(X, y, test_size = 0.3, random_state = 0)\n",
    "\n",
    "cols = X_train.columns\n",
    "\n",
    "from sklearn.linear_model import LogisticRegression\n",
    "logreg = LogisticRegression(solver='liblinear', random_state=0)\n",
    "logreg.fit(X_train, y_train)\n",
    "\n",
    "from sklearn.metrics import accuracy_score\n",
    "\n",
    "#Testing set accuracy\n",
    "y_pred_test = logreg.predict(X_test)\n",
    "print('Model (test set) accuracy score: {0:04f}'.format(accuracy_score(y_test, y_pred_test)))\n",
    "#Training set accuracy\n",
    "y_pred_train = logreg.predict(X_train)\n",
    "print('Model (train set) accuracy score: {0:04f}'.format(accuracy_score(y_train, y_pred_train)))"
   ]
  },
  {
   "cell_type": "markdown",
   "id": "6f216011-3afc-40e7-9466-2186dd038fe5",
   "metadata": {},
   "source": [
    "## GridSearch for best parameters ##"
   ]
  },
  {
   "cell_type": "code",
   "execution_count": 14,
   "id": "77a2674d-1440-4ab9-8346-97458cf21498",
   "metadata": {},
   "outputs": [],
   "source": [
    "param_grid_logreg = {\n",
    "    'penalty': ['l2'],  # Regularization method (L2 is used for softmax)\n",
    "    'C': [0.01, 0.1, 1, 10, 100],  # Inverse of regularization strength (smaller = stronger regularization)\n",
    "    'solver': ['lbfgs', 'saga'],  # Optimization algorithm (saga supports large datasets and multiclass)\n",
    "    'multi_class': ['multinomial'],  # Use softmax (multinomial) for multiclass problems\n",
    "    'max_iter': [1000]  # Maximum number of iterations for convergence\n",
    "}"
   ]
  },
  {
   "cell_type": "code",
   "execution_count": 22,
   "id": "365166b3-6f1b-44e9-9298-8ca668042d68",
   "metadata": {},
   "outputs": [
    {
     "name": "stdout",
     "output_type": "stream",
     "text": [
      "Best Parameters:  {'C': 0.01, 'max_iter': 1000, 'multi_class': 'multinomial', 'penalty': 'l2', 'solver': 'lbfgs'}\n",
      "Best Model:  LogisticRegression(C=0.01, max_iter=1000, multi_class='multinomial',\n",
      "                   random_state=0)\n",
      "Best Cross-Validation Accuracy: 0.72\n"
     ]
    }
   ],
   "source": [
    "grid_search_cv = GridSearchCV(estimator=logreg, param_grid=param_grid_logreg, cv=5, n_jobs=1, verbose=0, scoring='accuracy')\n",
    "\n",
    "grid_search_cv.fit(X_train, y_train)\n",
    "\n",
    "best_params = grid_search_cv.best_params_\n",
    "best_model = grid_search_cv.best_estimator_\n",
    "\n",
    "print('Best Parameters: ', best_params)\n",
    "print('Best Model: ', best_model)\n",
    "\n",
    "best_accuracy = grid_search_cv.best_score_\n",
    "print(f'Best Cross-Validation Accuracy: {best_accuracy:.2f}')"
   ]
  },
  {
   "cell_type": "markdown",
   "id": "9aa6a2a6-0d73-46c3-bee1-dffc3ab41109",
   "metadata": {},
   "source": [
    "## Best parameters ##"
   ]
  },
  {
   "cell_type": "code",
   "execution_count": 30,
   "id": "53c48b0f-1ad2-43cb-a47e-74e982d8a751",
   "metadata": {},
   "outputs": [
    {
     "name": "stdout",
     "output_type": "stream",
     "text": [
      "Softmax regression best accuracy (best parameters): 0.744257\n",
      "Training set score: 0.7205\n",
      "Test set score: 0.7443\n"
     ]
    }
   ],
   "source": [
    "logreg_best = LogisticRegression(C=0.01, max_iter=1000, multi_class='multinomial', random_state=0)\n",
    "logreg_best.fit(X_train, y_train)\n",
    "y_pred_best = logreg_best.predict(X_test)\n",
    "print(\"Softmax regression best accuracy (best parameters): {0:04f}\".format(accuracy_score(y_test, y_pred_best)))\n",
    "print('Training set score: {:.4f}'.format(logreg_best.score(X_train, y_train)))\n",
    "print('Test set score: {:.4f}'.format(logreg_best.score(X_test, y_test)))"
   ]
  },
  {
   "cell_type": "markdown",
   "id": "634a5104-2a43-4bd7-b716-4e5238fb20ce",
   "metadata": {},
   "source": [
    "## Evaluation ##"
   ]
  },
  {
   "cell_type": "code",
   "execution_count": 21,
   "id": "74720882-5ce8-4fbd-9baa-10ebdc67a5e8",
   "metadata": {},
   "outputs": [
    {
     "name": "stdout",
     "output_type": "stream",
     "text": [
      "Final classification report:\n",
      "              precision    recall  f1-score   support\n",
      "\n",
      "           0       0.67      0.55      0.60       216\n",
      "           1       0.76      0.87      0.81       420\n",
      "           2       0.00      0.00      0.00        17\n",
      "\n",
      "    accuracy                           0.74       653\n",
      "   macro avg       0.48      0.47      0.47       653\n",
      "weighted avg       0.71      0.74      0.72       653\n",
      "\n"
     ]
    }
   ],
   "source": [
    "#For 20% test size\n",
    "from sklearn.metrics import classification_report, confusion_matrix\n",
    "print(\"Final classification report:\")\n",
    "print(classification_report(y_test, y_pred_test))"
   ]
  },
  {
   "cell_type": "code",
   "execution_count": 32,
   "id": "0e6aad7d-ad18-41e9-adc4-f0ae14da6b96",
   "metadata": {},
   "outputs": [
    {
     "name": "stdout",
     "output_type": "stream",
     "text": [
      "Final classification report:\n",
      "              precision    recall  f1-score   support\n",
      "\n",
      "           0       0.66      0.56      0.60       216\n",
      "           1       0.77      0.86      0.81       420\n",
      "           2       0.00      0.00      0.00        17\n",
      "\n",
      "    accuracy                           0.74       653\n",
      "   macro avg       0.47      0.47      0.47       653\n",
      "weighted avg       0.71      0.74      0.72       653\n",
      "\n"
     ]
    }
   ],
   "source": [
    "#For 20% test size BEST PARAMETERS\n",
    "from sklearn.metrics import classification_report, confusion_matrix\n",
    "print(\"Final classification report:\")\n",
    "print(classification_report(y_test, y_pred_test))"
   ]
  },
  {
   "cell_type": "code",
   "execution_count": 23,
   "id": "b8c6ad44-13d3-4d2a-85f8-341865584d7a",
   "metadata": {},
   "outputs": [
    {
     "data": {
      "image/png": "[encoded data removed]",
      "text/plain": [
       "<Figure size 640x480 with 2 Axes>"
      ]
     },
     "metadata": {},
     "output_type": "display_data"
    }
   ],
   "source": [
    "sns.heatmap(confusion_matrix(y_test, y_pred_test), annot=True, fmt='d', cmap='YlGnBu')\n",
    "plt.title(\"Confusion Matrix - Test Set\")\n",
    "plt.xlabel(\"Predicted\")\n",
    "plt.ylabel(\"Actual\")\n",
    "plt.show()"
   ]
  }
 ],
 "metadata": {
  "kernelspec": {
   "display_name": "Python 3 (ipykernel)",
   "language": "python",
   "name": "python3"
  },
  "language_info": {
   "codemirror_mode": {
    "name": "ipython",
    "version": 3
   },
   "file_extension": ".py",
   "mimetype": "text/x-python",
   "name": "python",
   "nbconvert_exporter": "python",
   "pygments_lexer": "ipython3",
   "version": "3.12.4"
  }
 },
 "nbformat": 4,
 "nbformat_minor": 5
}
