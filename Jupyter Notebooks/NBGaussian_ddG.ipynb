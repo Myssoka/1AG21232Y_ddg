{
 "cells": [
  {
   "cell_type": "markdown",
   "id": "d78b3752-f7f4-42ab-a1df-b14bb844c82a",
   "metadata": {},
   "source": [
    "## FireProtDB - ddG Target Class (Multiclass classification) - Naive Bayes Classifier ##"
   ]
  },
  {
   "cell_type": "code",
   "execution_count": 2,
   "id": "ca05bf03-329e-4510-8cb0-9e1e0869c8b3",
   "metadata": {},
   "outputs": [
    {
     "name": "stdout",
     "output_type": "stream",
     "text": [
      "Setup Complete\n"
     ]
    }
   ],
   "source": [
    "#Initial setup\n",
    "\n",
    "import numpy as np\n",
    "import pandas as pd\n",
    "import matplotlib.pyplot as plt\n",
    "import seaborn as sns\n",
    "%matplotlib inline\n",
    "\n",
    "import warnings\n",
    "warnings.filterwarnings('ignore')\n",
    "\n",
    "from sklearn.naive_bayes import GaussianNB\n",
    "from sklearn.metrics import accuracy_score\n",
    "from sklearn.model_selection import GridSearchCV, cross_val_score\n",
    "\n",
    "print('Setup Complete')"
   ]
  },
  {
   "cell_type": "code",
   "execution_count": 3,
   "id": "7ac26a73-a204-4f47-93d8-ae7eb927edd3",
   "metadata": {},
   "outputs": [],
   "source": [
    "ddG_df = pd.read_csv('Apr10FireProtDB_FeatGen_targetclass.csv')\n",
    "ddG_df = ddG_df.dropna()\n",
    "ddG_df = ddG_df.drop(['protein_name',\n",
    "                      'uniprot_id',\n",
    "                      'ddG',\n",
    "                      'secondary_structure',\n",
    "                      'sequence',\n",
    "                      'MEC',\n",
    "                      'Aliphatic Index'], axis=1)\n",
    "y = ddG_df['target_class']\n",
    "X = ddG_df.drop(['target_class'], axis=1)"
   ]
  },
  {
   "cell_type": "markdown",
   "id": "f48520aa-8c22-4691-9718-0b5de9b74062",
   "metadata": {},
   "source": [
    "## Test size 20% ##"
   ]
  },
  {
   "cell_type": "code",
   "execution_count": 6,
   "id": "b2da10f5-420a-4a91-b7d6-fe45607249e2",
   "metadata": {},
   "outputs": [
    {
     "name": "stdout",
     "output_type": "stream",
     "text": [
      "Gaussian Naive Bayes accuracy: 0.721286\n",
      "Training set score: 0.7201\n",
      "Test set score: 0.7213\n"
     ]
    }
   ],
   "source": [
    "from sklearn.model_selection import train_test_split\n",
    "X_train, X_test, y_train, y_test = train_test_split(X, y, test_size = 0.2, random_state = 0)\n",
    "\n",
    "gnb = GaussianNB()\n",
    "gnb.fit(X_train, y_train)\n",
    "\n",
    "y_pred = gnb.predict(X_test)\n",
    "print(\"Gaussian Naive Bayes accuracy: {0:04f}\".format(accuracy_score(y_test, y_pred)))\n",
    "print('Training set score: {:.4f}'.format(gnb.score(X_train, y_train)))\n",
    "print('Test set score: {:.4f}'.format(gnb.score(X_test, y_test)))"
   ]
  },
  {
   "cell_type": "markdown",
   "id": "fae2a24f-db40-4045-83f5-b5449ab6b33c",
   "metadata": {},
   "source": [
    "## Test size 30% ##"
   ]
  },
  {
   "cell_type": "code",
   "execution_count": 11,
   "id": "50ce1ebe-1144-43a0-8cbc-5c0eaf0a0750",
   "metadata": {},
   "outputs": [
    {
     "name": "stdout",
     "output_type": "stream",
     "text": [
      "Gaussian Naive Bayes accuracy: 0.717058\n",
      "Training set score: 0.7204\n",
      "Test set score: 0.7171\n"
     ]
    }
   ],
   "source": [
    "from sklearn.model_selection import train_test_split\n",
    "X_train, X_test, y_train, y_test = train_test_split(X, y, test_size = 0.3, random_state = 0)\n",
    "\n",
    "gnb = GaussianNB()\n",
    "gnb.fit(X_train, y_train)\n",
    "\n",
    "y_pred = gnb.predict(X_test)\n",
    "print(\"Gaussian Naive Bayes accuracy: {0:04f}\".format(accuracy_score(y_test, y_pred)))\n",
    "print('Training set score: {:.4f}'.format(gnb.score(X_train, y_train)))\n",
    "print('Test set score: {:.4f}'.format(gnb.score(X_test, y_test)))"
   ]
  },
  {
   "cell_type": "markdown",
   "id": "bcabb9fc-eab3-464e-8955-1b614fdd0db4",
   "metadata": {},
   "source": [
    "## Gridsearch best parameters ##"
   ]
  },
  {
   "cell_type": "code",
   "execution_count": 9,
   "id": "479b8f0e-6b29-4232-ac96-edfe1b67d9bd",
   "metadata": {},
   "outputs": [],
   "source": [
    "param_grid_gnb = {\n",
    "    'var_smoothing': [1e-9, 1e-8, 1e-7, 1e-6]  # Portion of variance added to avoid division by zero\n",
    "}"
   ]
  },
  {
   "cell_type": "code",
   "execution_count": 11,
   "id": "a61c0e11-8a12-486a-a701-ec63ebfb51cf",
   "metadata": {},
   "outputs": [
    {
     "name": "stdout",
     "output_type": "stream",
     "text": [
      "Best Parameters:  {'var_smoothing': 1e-07}\n",
      "Best Model:  GaussianNB(var_smoothing=1e-07)\n",
      "Best Cross-Validation Accuracy: 0.73\n"
     ]
    }
   ],
   "source": [
    "grid_search_cv = GridSearchCV(estimator=gnb, param_grid=param_grid_gnb, cv=5, n_jobs=1, verbose=0, scoring='accuracy')\n",
    "\n",
    "grid_search_cv.fit(X_train, y_train)\n",
    "\n",
    "best_params = grid_search_cv.best_params_\n",
    "best_model = grid_search_cv.best_estimator_\n",
    "\n",
    "print('Best Parameters: ', best_params)\n",
    "print('Best Model: ', best_model)\n",
    "\n",
    "best_accuracy = grid_search_cv.best_score_\n",
    "print(f'Best Cross-Validation Accuracy: {best_accuracy:.2f}')"
   ]
  },
  {
   "cell_type": "markdown",
   "id": "b2bb014d-8cd1-4ceb-902c-1a23643a3613",
   "metadata": {},
   "source": [
    "## Best parameters ##"
   ]
  },
  {
   "cell_type": "code",
   "execution_count": 13,
   "id": "9a90a819-32c8-4f2b-8665-7313f246221a",
   "metadata": {},
   "outputs": [
    {
     "name": "stdout",
     "output_type": "stream",
     "text": [
      "Gaussian Naive Bayes accuracy: 0.736600\n",
      "Training set score: 0.7297\n",
      "Test set score: 0.7366\n"
     ]
    }
   ],
   "source": [
    "gnb_best = GaussianNB(var_smoothing=1e-07)\n",
    "gnb_best.fit(X_train, y_train)\n",
    "\n",
    "y_pred = gnb_best.predict(X_test)\n",
    "print(\"Gaussian Naive Bayes accuracy: {0:04f}\".format(accuracy_score(y_test, y_pred)))\n",
    "print('Training set score: {:.4f}'.format(gnb_best.score(X_train, y_train)))\n",
    "print('Test set score: {:.4f}'.format(gnb_best.score(X_test, y_test)))"
   ]
  },
  {
   "cell_type": "markdown",
   "id": "13688f47-fce6-4646-9258-6f9ab5fbce66",
   "metadata": {},
   "source": [
    "## Evaluation ##"
   ]
  },
  {
   "cell_type": "markdown",
   "id": "5db0630b-8b03-4627-b09a-aa7226b82bc4",
   "metadata": {},
   "source": [
    "**Default parameters**"
   ]
  },
  {
   "cell_type": "code",
   "execution_count": 18,
   "id": "52996806-d0cf-4bb1-b14d-8eddde0b80a4",
   "metadata": {},
   "outputs": [
    {
     "name": "stdout",
     "output_type": "stream",
     "text": [
      "Final classification report:\n",
      "              precision    recall  f1-score   support\n",
      "\n",
      "           0       0.62      0.56      0.59       216\n",
      "           1       0.78      0.82      0.80       420\n",
      "           2       0.42      0.29      0.34        17\n",
      "\n",
      "    accuracy                           0.72       653\n",
      "   macro avg       0.60      0.56      0.58       653\n",
      "weighted avg       0.71      0.72      0.72       653\n",
      "\n"
     ]
    }
   ],
   "source": [
    "#For 20% test size\n",
    "from sklearn.metrics import classification_report, confusion_matrix\n",
    "print(\"Final classification report:\")\n",
    "print(classification_report(y_test, y_pred))"
   ]
  },
  {
   "cell_type": "markdown",
   "id": "61644b45-b220-4a71-8a01-b98b592315e7",
   "metadata": {},
   "source": [
    "**Best parameters**"
   ]
  },
  {
   "cell_type": "code",
   "execution_count": 17,
   "id": "0f07c216-baf4-4ca8-8685-e652e4d153be",
   "metadata": {},
   "outputs": [
    {
     "name": "stdout",
     "output_type": "stream",
     "text": [
      "Final classification report:\n",
      "              precision    recall  f1-score   support\n",
      "\n",
      "           0       0.66      0.55      0.60       216\n",
      "           1       0.77      0.86      0.81       420\n",
      "           2       0.33      0.18      0.23        17\n",
      "\n",
      "    accuracy                           0.74       653\n",
      "   macro avg       0.59      0.53      0.55       653\n",
      "weighted avg       0.72      0.74      0.73       653\n",
      "\n"
     ]
    }
   ],
   "source": [
    "#For 20% test size BEST PARAMETERS\n",
    "from sklearn.metrics import classification_report, confusion_matrix\n",
    "print(\"Final classification report:\")\n",
    "print(classification_report(y_test, y_pred))"
   ]
  },
  {
   "cell_type": "code",
   "execution_count": 22,
   "id": "fac82ac0-5d1d-43de-98f2-f8368c74424d",
   "metadata": {},
   "outputs": [
    {
     "data": {
      "image/png": "[encoded data removed]",
      "text/plain": [
       "<Figure size 640x480 with 2 Axes>"
      ]
     },
     "metadata": {},
     "output_type": "display_data"
    }
   ],
   "source": [
    "sns.heatmap(confusion_matrix(y_test, y_pred), annot=True, fmt='d', cmap='YlGnBu')\n",
    "plt.title(\"Confusion Matrix - Test Set\")\n",
    "plt.xlabel(\"Predicted\")\n",
    "plt.ylabel(\"Actual\")\n",
    "plt.show()"
   ]
  }
 ],
 "metadata": {
  "kernelspec": {
   "display_name": "Python 3 (ipykernel)",
   "language": "python",
   "name": "python3"
  },
  "language_info": {
   "codemirror_mode": {
    "name": "ipython",
    "version": 3
   },
   "file_extension": ".py",
   "mimetype": "text/x-python",
   "name": "python",
   "nbconvert_exporter": "python",
   "pygments_lexer": "ipython3",
   "version": "3.12.4"
  }
 },
 "nbformat": 4,
 "nbformat_minor": 5
}
