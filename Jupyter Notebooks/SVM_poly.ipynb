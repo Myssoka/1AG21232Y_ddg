{
 "cells": [
  {
   "attachments": {},
   "cell_type": "markdown",
   "id": "dceb565f-8b32-4835-8f87-c6bc612eddb4",
   "metadata": {},
   "source": [
    "## FireProtDB - ddG Target Class (Multiclass classification) - SVM Poly kernel ##"
   ]
  },
  {
   "cell_type": "code",
   "execution_count": 6,
   "id": "83b4599e-2f3f-4166-b5a3-6c0cb14b5ddf",
   "metadata": {},
   "outputs": [
    {
     "name": "stdout",
     "output_type": "stream",
     "text": [
      "Setup Complete\n"
     ]
    }
   ],
   "source": [
    "import numpy as np\n",
    "import pandas as pd\n",
    "import matplotlib.pyplot as plt\n",
    "import seaborn as sns\n",
    "\n",
    "import warnings\n",
    "warnings.filterwarnings('ignore')\n",
    "\n",
    "from sklearn.svm import SVC\n",
    "from sklearn.metrics import accuracy_score\n",
    "from sklearn.model_selection import GridSearchCV, cross_val_score\n",
    "\n",
    "\n",
    "print('Setup Complete')"
   ]
  },
  {
   "cell_type": "code",
   "execution_count": 8,
   "id": "dca1afb1-ecd6-4799-a98c-283d93398bcd",
   "metadata": {},
   "outputs": [],
   "source": [
    "ddG_df = pd.read_csv('Apr10FireProtDB_FeatGen_targetclass.csv')\n",
    "ddG_df = ddG_df.dropna()\n",
    "ddG_df = ddG_df.drop(['protein_name',\n",
    "                      'uniprot_id',\n",
    "                      'ddG',\n",
    "                      'secondary_structure',\n",
    "                      'sequence',\n",
    "                      'MEC',\n",
    "                      'Aliphatic Index'], axis=1)\n",
    "\n",
    "y = ddG_df['target_class']\n",
    "X = ddG_df.drop(['target_class'], axis=1)"
   ]
  },
  {
   "cell_type": "markdown",
   "id": "5ff29435-5470-4e7e-b9d1-b59dff585820",
   "metadata": {},
   "source": [
    "## Polynomial (poly) ##"
   ]
  },
  {
   "cell_type": "markdown",
   "id": "1351b1c2-802d-4264-8439-a952ad90669a",
   "metadata": {},
   "source": [
    "**Test size 20%**"
   ]
  },
  {
   "cell_type": "code",
   "execution_count": 20,
   "id": "5148a0e8-3a40-4495-9607-42d14d66ed48",
   "metadata": {},
   "outputs": [],
   "source": [
    "from sklearn.model_selection import train_test_split, GridSearchCV\n",
    "X_train, X_test, y_train, y_test = train_test_split(X, y, test_size = 0.2, random_state = 0)"
   ]
  },
  {
   "cell_type": "markdown",
   "id": "e4b190ad-bdbe-4771-bac7-365c88a19452",
   "metadata": {},
   "source": [
    "**Default parameters**"
   ]
  },
  {
   "cell_type": "code",
   "execution_count": 23,
   "id": "e798cc04-369b-4913-803a-9bcd0f2a7e34",
   "metadata": {},
   "outputs": [
    {
     "name": "stdout",
     "output_type": "stream",
     "text": [
      "Accuracy on train set: 0.5993\n",
      "Accuracy on test set: 0.6432\n"
     ]
    }
   ],
   "source": [
    "poly_default = SVC(kernel= 'poly', C=1)\n",
    "poly_default.fit(X_train, y_train)\n",
    "\n",
    "y_train_default_pred = poly_default.predict(X_train)\n",
    "default_train_accuracy = accuracy_score(y_train, y_train_default_pred)\n",
    "print(f\"Accuracy on train set: {default_train_accuracy:.04f}\")\n",
    "\n",
    "y_pred = poly_default.predict(X_test)\n",
    "accuracy = accuracy_score(y_test, y_pred)\n",
    "print(f\"Accuracy on test set: {accuracy:.04f}\")"
   ]
  },
  {
   "cell_type": "code",
   "execution_count": 27,
   "id": "1425d1f8-a5d6-4654-8268-aa2253920a99",
   "metadata": {},
   "outputs": [
    {
     "name": "stdout",
     "output_type": "stream",
     "text": [
      "For C = 2, the cross-validated accuracy is 0.5993\n",
      "For C = 0.05, the cross-validated accuracy is 0.5993\n",
      "For C = 0.1, the cross-validated accuracy is 0.5993\n",
      "For C = 0.5, the cross-validated accuracy is 0.5993\n",
      "For C = 1, the cross-validated accuracy is 0.5993\n",
      "For C = 5, the cross-validated accuracy is 0.5993\n",
      "For C = 10, the cross-validated accuracy is 0.5993\n",
      "For C = 100, the cross-validated accuracy is 0.5993\n",
      "Best C value: 2\n",
      "Accuracy on train set: 0.5993\n",
      "Accuracy on test set: 0.6432\n",
      "CPU times: total: 1min 14s\n",
      "Wall time: 1min 14s\n"
     ]
    }
   ],
   "source": [
    "%%time\n",
    "\n",
    "from sklearn.svm import SVC\n",
    "from sklearn.metrics import accuracy_score\n",
    "\n",
    "param_grid = {'C': [2, 0.05, 0.1, 0.5, 1, 5, 10, 100]}\n",
    "\n",
    "svm_model = SVC(kernel = 'poly')\n",
    "\n",
    "grid_search = GridSearchCV(svm_model, param_grid, cv=5, scoring='accuracy')\n",
    "grid_search.fit(X_train, y_train)\n",
    "\n",
    "# Print accuracy for each C\n",
    "for mean_score, C_value in zip(grid_search.cv_results_['mean_test_score'], param_grid['C']):\n",
    "    print(f\"For C = {C_value}, the cross-validated accuracy is {mean_score:.4f}\")\n",
    "\n",
    "best_C = grid_search.best_params_['C']\n",
    "print(f\"Best C value: {best_C}\")\n",
    "\n",
    "best_SVM = SVC(kernel= 'poly', C=best_C)\n",
    "best_SVM.fit(X_train, y_train)\n",
    "\n",
    "y_train_pred = best_SVM.predict(X_train)\n",
    "train_accuracy = accuracy_score(y_train, y_train_pred)\n",
    "\n",
    "print(f\"Accuracy on train set: {train_accuracy:.04f}\")\n",
    "\n",
    "y_pred = best_SVM.predict(X_test)\n",
    "accuracy = accuracy_score(y_test, y_pred)\n",
    "\n",
    "print(f\"Accuracy on test set: {accuracy:.04f}\")"
   ]
  },
  {
   "cell_type": "markdown",
   "id": "3e452602-6c76-4764-9481-32c96d7f5c2a",
   "metadata": {},
   "source": [
    "**Test size 30%, C=1**"
   ]
  },
  {
   "cell_type": "code",
   "execution_count": 16,
   "id": "34d212d2-2832-483f-9a28-ce7a9e2c757e",
   "metadata": {},
   "outputs": [],
   "source": [
    "from sklearn.model_selection import train_test_split, GridSearchCV\n",
    "X_train, X_test, y_train, y_test = train_test_split(X, y, test_size = 0.3, random_state = 0)"
   ]
  },
  {
   "cell_type": "code",
   "execution_count": 18,
   "id": "927c0a0f-d29a-43ce-9c59-96fed42b0a8a",
   "metadata": {},
   "outputs": [
    {
     "name": "stdout",
     "output_type": "stream",
     "text": [
      "Accuracy on train set: 0.6030\n",
      "Accuracy on test set: 0.6200\n"
     ]
    }
   ],
   "source": [
    "best_SVM = SVC(kernel= 'poly', C=1)\n",
    "best_SVM.fit(X_train, y_train)\n",
    "\n",
    "#Train accuracy\n",
    "y_train_pred = best_SVM.predict(X_train)\n",
    "train_accuracy = accuracy_score(y_train, y_train_pred)\n",
    "print(f\"Accuracy on train set: {train_accuracy:.4f}\")\n",
    "\n",
    "#Test accuracy\n",
    "y_pred = best_SVM.predict(X_test)\n",
    "accuracy = accuracy_score(y_test, y_pred)\n",
    "print(f\"Accuracy on test set: {accuracy:.4f}\")"
   ]
  },
  {
   "cell_type": "markdown",
   "id": "8454863e-5208-4097-907e-9c120cab7058",
   "metadata": {},
   "source": [
    "## Evaluation - poly ##"
   ]
  },
  {
   "cell_type": "code",
   "execution_count": 25,
   "id": "a5de6cc1-7303-4fb8-b79d-1387f17047c6",
   "metadata": {},
   "outputs": [
    {
     "name": "stdout",
     "output_type": "stream",
     "text": [
      "Final classification report:\n",
      "              precision    recall  f1-score   support\n",
      "\n",
      "           0       0.00      0.00      0.00       216\n",
      "           1       0.64      1.00      0.78       420\n",
      "           2       0.00      0.00      0.00        17\n",
      "\n",
      "    accuracy                           0.64       653\n",
      "   macro avg       0.21      0.33      0.26       653\n",
      "weighted avg       0.41      0.64      0.50       653\n",
      "\n"
     ]
    }
   ],
   "source": [
    "#For 20% test size\n",
    "from sklearn.metrics import classification_report, confusion_matrix\n",
    "print(\"Final classification report:\")\n",
    "print(classification_report(y_test, y_pred))"
   ]
  },
  {
   "cell_type": "code",
   "execution_count": 29,
   "id": "205bc6ff-14a5-4f4b-bd22-8f29248f474a",
   "metadata": {},
   "outputs": [
    {
     "name": "stdout",
     "output_type": "stream",
     "text": [
      "Final classification report:\n",
      "              precision    recall  f1-score   support\n",
      "\n",
      "           0       0.00      0.00      0.00       216\n",
      "           1       0.64      1.00      0.78       420\n",
      "           2       0.00      0.00      0.00        17\n",
      "\n",
      "    accuracy                           0.64       653\n",
      "   macro avg       0.21      0.33      0.26       653\n",
      "weighted avg       0.41      0.64      0.50       653\n",
      "\n"
     ]
    }
   ],
   "source": [
    "#For 20% test size BEST PARAMETERS\n",
    "from sklearn.metrics import classification_report, confusion_matrix\n",
    "print(\"Final classification report:\")\n",
    "print(classification_report(y_test, y_pred))"
   ]
  },
  {
   "cell_type": "code",
   "execution_count": 47,
   "id": "e90e0c58-1811-43ec-a121-3abd193256e8",
   "metadata": {},
   "outputs": [
    {
     "data": {
      "image/png": "[encoded data removed]",
      "text/plain": [
       "<Figure size 640x480 with 2 Axes>"
      ]
     },
     "metadata": {},
     "output_type": "display_data"
    }
   ],
   "source": [
    "sns.heatmap(confusion_matrix(y_test, y_pred), annot=True, fmt='d', cmap='YlGnBu')\n",
    "plt.title(\"Confusion Matrix - Test Set\")\n",
    "plt.xlabel(\"Predicted\")\n",
    "plt.ylabel(\"Actual\")\n",
    "plt.show()"
   ]
  }
 ],
 "metadata": {
  "kernelspec": {
   "display_name": "Python 3 (ipykernel)",
   "language": "python",
   "name": "python3"
  },
  "language_info": {
   "codemirror_mode": {
    "name": "ipython",
    "version": 3
   },
   "file_extension": ".py",
   "mimetype": "text/x-python",
   "name": "python",
   "nbconvert_exporter": "python",
   "pygments_lexer": "ipython3",
   "version": "3.12.4"
  }
 },
 "nbformat": 4,
 "nbformat_minor": 5
}
