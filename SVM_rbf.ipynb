{
 "cells": [
  {
   "attachments": {},
   "cell_type": "markdown",
   "id": "dceb565f-8b32-4835-8f87-c6bc612eddb4",
   "metadata": {},
   "source": [
    "## FireProtDB - ddG Target Class (Multiclass classification) - SVM RBF ##"
   ]
  },
  {
   "cell_type": "code",
   "execution_count": 6,
   "id": "83b4599e-2f3f-4166-b5a3-6c0cb14b5ddf",
   "metadata": {},
   "outputs": [
    {
     "name": "stdout",
     "output_type": "stream",
     "text": [
      "Setup Complete\n"
     ]
    }
   ],
   "source": [
    "import numpy as np\n",
    "import pandas as pd\n",
    "import matplotlib.pyplot as plt\n",
    "import seaborn as sns\n",
    "\n",
    "import warnings\n",
    "warnings.filterwarnings('ignore')\n",
    "\n",
    "from sklearn.svm import SVC\n",
    "from sklearn.metrics import accuracy_score\n",
    "from sklearn.model_selection import GridSearchCV, cross_val_score\n",
    "\n",
    "\n",
    "print('Setup Complete')"
   ]
  },
  {
   "cell_type": "code",
   "execution_count": 8,
   "id": "dca1afb1-ecd6-4799-a98c-283d93398bcd",
   "metadata": {},
   "outputs": [],
   "source": [
    "ddG_df = pd.read_csv('Apr10FireProtDB_FeatGen_targetclass.csv')\n",
    "ddG_df = ddG_df.dropna()\n",
    "ddG_df = ddG_df.drop(['protein_name',\n",
    "                      'uniprot_id',\n",
    "                      'ddG',\n",
    "                      'secondary_structure',\n",
    "                      'sequence',\n",
    "                      'MEC',\n",
    "                      'Aliphatic Index'], axis=1)\n",
    "\n",
    "y = ddG_df['target_class']\n",
    "X = ddG_df.drop(['target_class'], axis=1)"
   ]
  },
  {
   "cell_type": "markdown",
   "id": "c9c85f9e-6a44-445f-85bd-00cecf48a71a",
   "metadata": {},
   "source": [
    "## Radial basis function (rbf) ##"
   ]
  },
  {
   "cell_type": "markdown",
   "id": "f3603fb5-89be-49f9-8f2f-ede98d90caa9",
   "metadata": {},
   "source": [
    "**Test size 20%**"
   ]
  },
  {
   "cell_type": "code",
   "execution_count": 8,
   "id": "e2ef1ab7-1c36-49ca-897d-3d1e59070439",
   "metadata": {},
   "outputs": [],
   "source": [
    "from sklearn.model_selection import train_test_split, GridSearchCV\n",
    "X_train, X_test, y_train, y_test = train_test_split(X, y, test_size = 0.2, random_state = 0)"
   ]
  },
  {
   "cell_type": "markdown",
   "id": "bdde71b3-6f18-4d9d-aa01-ddfcda52ec5b",
   "metadata": {},
   "source": [
    "**Default parameters**"
   ]
  },
  {
   "cell_type": "code",
   "execution_count": 28,
   "id": "dc228c17-5468-48db-bedd-fb256f9994ce",
   "metadata": {},
   "outputs": [
    {
     "name": "stdout",
     "output_type": "stream",
     "text": [
      "Accuracy on train set: 0.5993\n",
      "Accuracy on test set: 0.6432\n"
     ]
    }
   ],
   "source": [
    "rbf_default = SVC(kernel= 'rbf', C=1)\n",
    "rbf_default.fit(X_train, y_train)\n",
    "\n",
    "y_train_default_pred = rbf_default.predict(X_train)\n",
    "default_train_accuracy = accuracy_score(y_train, y_train_default_pred)\n",
    "print(f\"Accuracy on train set: {default_train_accuracy:.04f}\")\n",
    "\n",
    "y_pred = rbf_default.predict(X_test)\n",
    "accuracy = accuracy_score(y_test, y_pred)\n",
    "print(f\"Accuracy on test set: {accuracy:.04f}\")"
   ]
  },
  {
   "cell_type": "markdown",
   "id": "95e4acdc-c2a7-4172-8988-73860898ec03",
   "metadata": {},
   "source": [
    "**Tuning parameters**"
   ]
  },
  {
   "cell_type": "code",
   "execution_count": 21,
   "id": "a765d80a-4ea8-4302-8021-a8aa3989703a",
   "metadata": {},
   "outputs": [
    {
     "name": "stdout",
     "output_type": "stream",
     "text": [
      "For C = 2, the cross-validated accuracy is 0.5993\n",
      "For C = 0.05, the cross-validated accuracy is 0.5993\n",
      "For C = 0.1, the cross-validated accuracy is 0.5993\n",
      "For C = 0.5, the cross-validated accuracy is 0.5993\n",
      "For C = 1, the cross-validated accuracy is 0.5993\n",
      "For C = 5, the cross-validated accuracy is 0.5993\n",
      "For C = 10, the cross-validated accuracy is 0.6020\n",
      "For C = 100, the cross-validated accuracy is 0.6292\n",
      "Best C value: 100\n",
      "Accuracy on train set: 0.6415\n",
      "Accuracy on test set: 0.6845\n",
      "CPU times: total: 27.5 s\n",
      "Wall time: 28 s\n"
     ]
    }
   ],
   "source": [
    "%%time\n",
    "param_grid = {'C': [2, 0.05, 0.1, 0.5, 1, 5, 10, 100]}\n",
    "svm_model = SVC(kernel = 'rbf')\n",
    "\n",
    "grid_search = GridSearchCV(svm_model, param_grid, cv=5, scoring='accuracy')\n",
    "grid_search.fit(X_train, y_train)\n",
    "\n",
    "# Print accuracy for each C\n",
    "for mean_score, C_value in zip(grid_search.cv_results_['mean_test_score'], param_grid['C']):\n",
    "    print(f\"For C = {C_value}, the cross-validated accuracy is {mean_score:.4f}\")\n",
    "\n",
    "best_C = grid_search.best_params_['C']\n",
    "print(f\"Best C value: {best_C}\")\n",
    "\n",
    "best_SVM = SVC(kernel= 'rbf', C=best_C)\n",
    "best_SVM.fit(X_train, y_train)\n",
    "\n",
    "y_train_pred = best_SVM.predict(X_train)\n",
    "train_accuracy = accuracy_score(y_train, y_train_pred)\n",
    "\n",
    "print(f\"Accuracy on train set: {train_accuracy:.04f}\")\n",
    "\n",
    "y_pred = best_SVM.predict(X_test)\n",
    "accuracy = accuracy_score(y_test, y_pred)\n",
    "\n",
    "print(f\"Accuracy on test set: {accuracy:.04f}\")"
   ]
  },
  {
   "cell_type": "markdown",
   "id": "4b61d936-b9da-46c2-8521-bb37f2cc8e58",
   "metadata": {},
   "source": [
    "**Test size 30%, C=1** (C=1 because that is default param.)"
   ]
  },
  {
   "cell_type": "code",
   "execution_count": 14,
   "id": "b7fea88c-d71f-4a9b-9524-9a2588b82a49",
   "metadata": {},
   "outputs": [],
   "source": [
    "from sklearn.model_selection import train_test_split, GridSearchCV\n",
    "X_train, X_test, y_train, y_test = train_test_split(X, y, test_size = 0.3, random_state = 0)"
   ]
  },
  {
   "cell_type": "code",
   "execution_count": 16,
   "id": "625fe151-0815-42b4-80a5-6d0e365bf292",
   "metadata": {},
   "outputs": [
    {
     "name": "stdout",
     "output_type": "stream",
     "text": [
      "Accuracy on train set: 0.6030\n",
      "Accuracy on test set: 0.6200\n"
     ]
    }
   ],
   "source": [
    "best_SVM = SVC(kernel= 'rbf', C=1)\n",
    "best_SVM.fit(X_train, y_train)\n",
    "\n",
    "#Train accuracy\n",
    "y_train_pred = best_SVM.predict(X_train)\n",
    "train_accuracy = accuracy_score(y_train, y_train_pred)\n",
    "print(f\"Accuracy on train set: {train_accuracy:.4f}\")\n",
    "\n",
    "#Test accuracy\n",
    "y_pred = best_SVM.predict(X_test)\n",
    "accuracy = accuracy_score(y_test, y_pred)\n",
    "print(f\"Accuracy on test set: {accuracy:.4f}\")"
   ]
  },
  {
   "cell_type": "markdown",
   "id": "96e4b8cd-1f15-4b9d-a9eb-492fd7bcafcf",
   "metadata": {},
   "source": [
    "## Evaluation - rbf ##"
   ]
  },
  {
   "cell_type": "code",
   "execution_count": 31,
   "id": "23452ac9-4e5c-4515-9096-766563facb5c",
   "metadata": {},
   "outputs": [
    {
     "name": "stdout",
     "output_type": "stream",
     "text": [
      "Final classification report:\n",
      "              precision    recall  f1-score   support\n",
      "\n",
      "           0       0.00      0.00      0.00       216\n",
      "           1       0.64      1.00      0.78       420\n",
      "           2       0.00      0.00      0.00        17\n",
      "\n",
      "    accuracy                           0.64       653\n",
      "   macro avg       0.21      0.33      0.26       653\n",
      "weighted avg       0.41      0.64      0.50       653\n",
      "\n"
     ]
    }
   ],
   "source": [
    "#For 20% test size\n",
    "from sklearn.metrics import classification_report, confusion_matrix\n",
    "print(\"Final classification report:\")\n",
    "print(classification_report(y_test, y_pred))"
   ]
  },
  {
   "cell_type": "code",
   "execution_count": 29,
   "id": "8ac6c6bd-20a7-4725-9358-0c76db0bc03f",
   "metadata": {},
   "outputs": [
    {
     "name": "stdout",
     "output_type": "stream",
     "text": [
      "Final classification report:\n",
      "              precision    recall  f1-score   support\n",
      "\n",
      "           0       0.77      0.12      0.22       216\n",
      "           1       0.68      0.99      0.80       420\n",
      "           2       0.83      0.29      0.43        17\n",
      "\n",
      "    accuracy                           0.68       653\n",
      "   macro avg       0.76      0.47      0.48       653\n",
      "weighted avg       0.71      0.68      0.60       653\n",
      "\n"
     ]
    }
   ],
   "source": [
    "#For 20% test size BEST PARAMETERS\n",
    "from sklearn.metrics import classification_report, confusion_matrix\n",
    "print(\"Final classification report:\")\n",
    "print(classification_report(y_test, y_pred))"
   ]
  },
  {
   "cell_type": "code",
   "execution_count": 31,
   "id": "bc16587c-dcd4-4145-b63b-a3cfc297e374",
   "metadata": {},
   "outputs": [
    {
     "data": {
      "image/png": "[encoded data removed]",
      "text/plain": [
       "<Figure size 640x480 with 2 Axes>"
      ]
     },
     "metadata": {},
     "output_type": "display_data"
    }
   ],
   "source": [
    "sns.heatmap(confusion_matrix(y_test, y_pred), annot=True, fmt='d', cmap='YlGnBu')\n",
    "plt.title(\"Confusion Matrix - Test Set\")\n",
    "plt.xlabel(\"Predicted\")\n",
    "plt.ylabel(\"Actual\")\n",
    "plt.show()"
   ]
  }
 ],
 "metadata": {
  "kernelspec": {
   "display_name": "Python 3 (ipykernel)",
   "language": "python",
   "name": "python3"
  },
  "language_info": {
   "codemirror_mode": {
    "name": "ipython",
    "version": 3
   },
   "file_extension": ".py",
   "mimetype": "text/x-python",
   "name": "python",
   "nbconvert_exporter": "python",
   "pygments_lexer": "ipython3",
   "version": "3.12.4"
  }
 },
 "nbformat": 4,
 "nbformat_minor": 5
}
