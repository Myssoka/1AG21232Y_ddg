{
 "cells": [
  {
   "cell_type": "markdown",
   "id": "a2473f1b-f1aa-4b2b-8c7a-2042aa6a0fa7",
   "metadata": {},
   "source": [
    "## FireProtDB - ddG Target Class (Multiclass classification) - Linear Discriminant Analysis ##"
   ]
  },
  {
   "cell_type": "code",
   "execution_count": 1,
   "id": "c400a184-f3bf-4cde-ae54-9504b40ab579",
   "metadata": {},
   "outputs": [
    {
     "name": "stdout",
     "output_type": "stream",
     "text": [
      "Setup Complete\n"
     ]
    }
   ],
   "source": [
    "#Initial setup\n",
    "\n",
    "import pandas as pd\n",
    "import matplotlib.pyplot as plt\n",
    "import numpy as np\n",
    "import seaborn as sns\n",
    "\n",
    "from sklearn.model_selection import train_test_split, RepeatedStratifiedKFold, cross_val_score\n",
    "from sklearn.discriminant_analysis import LinearDiscriminantAnalysis\n",
    "from sklearn.model_selection import GridSearchCV, cross_val_score\n",
    "\n",
    "import warnings\n",
    "warnings.filterwarnings('ignore')\n",
    "\n",
    "print(\"Setup Complete\")"
   ]
  },
  {
   "cell_type": "code",
   "execution_count": 2,
   "id": "78d3c5d8-c189-4b38-93d6-5924f1478bdf",
   "metadata": {},
   "outputs": [],
   "source": [
    "ddG_df = pd.read_csv('Apr10FireProtDB_FeatGen_targetclass.csv')\n",
    "ddG_df = ddG_df.dropna()\n",
    "ddG_df = ddG_df.drop(['protein_name',\n",
    "                      'uniprot_id',\n",
    "                      'ddG',\n",
    "                      'secondary_structure',\n",
    "                      'sequence',\n",
    "                      'MEC',\n",
    "                      'Aliphatic Index'], axis=1)\n",
    "\n",
    "y = ddG_df['target_class']\n",
    "X = ddG_df.drop(['target_class'], axis=1)"
   ]
  },
  {
   "cell_type": "code",
   "execution_count": 25,
   "id": "c87f60f9-db9d-4669-a899-0d085dacc3c5",
   "metadata": {},
   "outputs": [
    {
     "name": "stdout",
     "output_type": "stream",
     "text": [
      "(3261, 12)\n"
     ]
    },
    {
     "data": {
      "text/html": [
       "<div>\n",
       "<style scoped>\n",
       "    .dataframe tbody tr th:only-of-type {\n",
       "        vertical-align: middle;\n",
       "    }\n",
       "\n",
       "    .dataframe tbody tr th {\n",
       "        vertical-align: top;\n",
       "    }\n",
       "\n",
       "    .dataframe thead th {\n",
       "        text-align: right;\n",
       "    }\n",
       "</style>\n",
       "<table border=\"1\" class=\"dataframe\">\n",
       "  <thead>\n",
       "    <tr style=\"text-align: right;\">\n",
       "      <th></th>\n",
       "      <th>asa</th>\n",
       "      <th>b_factor</th>\n",
       "      <th>pH</th>\n",
       "      <th>Instability index</th>\n",
       "      <th>Isoelectric point</th>\n",
       "      <th>Hydrophobicity</th>\n",
       "      <th>Aromaticity</th>\n",
       "      <th>Molecular weight</th>\n",
       "      <th>Fraction helix</th>\n",
       "      <th>Fraction turn</th>\n",
       "      <th>Fraction sheet</th>\n",
       "      <th>target_class</th>\n",
       "    </tr>\n",
       "  </thead>\n",
       "  <tbody>\n",
       "    <tr>\n",
       "      <th>0</th>\n",
       "      <td>5.27</td>\n",
       "      <td>17.64</td>\n",
       "      <td>6.5</td>\n",
       "      <td>53.863197</td>\n",
       "      <td>4.704188</td>\n",
       "      <td>-0.420074</td>\n",
       "      <td>0.111524</td>\n",
       "      <td>30747.5732</td>\n",
       "      <td>0.334572</td>\n",
       "      <td>0.301115</td>\n",
       "      <td>0.330855</td>\n",
       "      <td>0</td>\n",
       "    </tr>\n",
       "    <tr>\n",
       "      <th>1</th>\n",
       "      <td>5.27</td>\n",
       "      <td>17.64</td>\n",
       "      <td>6.5</td>\n",
       "      <td>53.863197</td>\n",
       "      <td>4.704188</td>\n",
       "      <td>-0.420074</td>\n",
       "      <td>0.111524</td>\n",
       "      <td>30747.5732</td>\n",
       "      <td>0.334572</td>\n",
       "      <td>0.301115</td>\n",
       "      <td>0.330855</td>\n",
       "      <td>0</td>\n",
       "    </tr>\n",
       "    <tr>\n",
       "      <th>2</th>\n",
       "      <td>5.27</td>\n",
       "      <td>17.64</td>\n",
       "      <td>6.5</td>\n",
       "      <td>53.863197</td>\n",
       "      <td>4.704188</td>\n",
       "      <td>-0.420074</td>\n",
       "      <td>0.111524</td>\n",
       "      <td>30747.5732</td>\n",
       "      <td>0.334572</td>\n",
       "      <td>0.301115</td>\n",
       "      <td>0.330855</td>\n",
       "      <td>1</td>\n",
       "    </tr>\n",
       "    <tr>\n",
       "      <th>3</th>\n",
       "      <td>5.27</td>\n",
       "      <td>17.64</td>\n",
       "      <td>6.5</td>\n",
       "      <td>53.863197</td>\n",
       "      <td>4.704188</td>\n",
       "      <td>-0.420074</td>\n",
       "      <td>0.111524</td>\n",
       "      <td>30747.5732</td>\n",
       "      <td>0.334572</td>\n",
       "      <td>0.301115</td>\n",
       "      <td>0.330855</td>\n",
       "      <td>1</td>\n",
       "    </tr>\n",
       "    <tr>\n",
       "      <th>4</th>\n",
       "      <td>87.91</td>\n",
       "      <td>34.91</td>\n",
       "      <td>6.5</td>\n",
       "      <td>53.863197</td>\n",
       "      <td>4.704188</td>\n",
       "      <td>-0.420074</td>\n",
       "      <td>0.111524</td>\n",
       "      <td>30747.5732</td>\n",
       "      <td>0.334572</td>\n",
       "      <td>0.301115</td>\n",
       "      <td>0.330855</td>\n",
       "      <td>0</td>\n",
       "    </tr>\n",
       "  </tbody>\n",
       "</table>\n",
       "</div>"
      ],
      "text/plain": [
       "     asa  b_factor   pH  Instability index  Isoelectric point  Hydrophobicity  \\\n",
       "0   5.27     17.64  6.5          53.863197           4.704188       -0.420074   \n",
       "1   5.27     17.64  6.5          53.863197           4.704188       -0.420074   \n",
       "2   5.27     17.64  6.5          53.863197           4.704188       -0.420074   \n",
       "3   5.27     17.64  6.5          53.863197           4.704188       -0.420074   \n",
       "4  87.91     34.91  6.5          53.863197           4.704188       -0.420074   \n",
       "\n",
       "   Aromaticity  Molecular weight  Fraction helix  Fraction turn  \\\n",
       "0     0.111524        30747.5732        0.334572       0.301115   \n",
       "1     0.111524        30747.5732        0.334572       0.301115   \n",
       "2     0.111524        30747.5732        0.334572       0.301115   \n",
       "3     0.111524        30747.5732        0.334572       0.301115   \n",
       "4     0.111524        30747.5732        0.334572       0.301115   \n",
       "\n",
       "   Fraction sheet  target_class  \n",
       "0        0.330855             0  \n",
       "1        0.330855             0  \n",
       "2        0.330855             1  \n",
       "3        0.330855             1  \n",
       "4        0.330855             0  "
      ]
     },
     "execution_count": 25,
     "metadata": {},
     "output_type": "execute_result"
    }
   ],
   "source": [
    "print(ddG_df.shape)\n",
    "ddG_df.head()"
   ]
  },
  {
   "cell_type": "markdown",
   "id": "ce311f31-611b-490c-bfc8-41c31c634315",
   "metadata": {},
   "source": [
    "## Test size 20% ##"
   ]
  },
  {
   "cell_type": "code",
   "execution_count": 28,
   "id": "1d1ce863-3fa9-48ac-977e-747ee022605c",
   "metadata": {},
   "outputs": [
    {
     "name": "stdout",
     "output_type": "stream",
     "text": [
      "LDA accuracy score: 0.745789\n",
      "Model (train set) accuracy score: 0.730828\n"
     ]
    }
   ],
   "source": [
    "X_train, X_test, y_train, y_test = train_test_split(X, y, test_size = 0.2, random_state = 0)\n",
    "model = LinearDiscriminantAnalysis()\n",
    "model.fit(X_train, y_train)\n",
    "y_pred = model.predict(X_test)\n",
    "\n",
    "from sklearn.metrics import accuracy_score\n",
    "print(\"LDA accuracy score: {0:04f}\".format(accuracy_score(y_test, y_pred)))\n",
    "y_pred_train = model.predict(X_train)\n",
    "print('Model (train set) accuracy score: {0:04f}'.format(accuracy_score(y_train, y_pred_train)))"
   ]
  },
  {
   "cell_type": "markdown",
   "id": "6ffbd82c-9a0a-497e-a705-314d4a8e62e5",
   "metadata": {},
   "source": [
    "## Test size 30% ##"
   ]
  },
  {
   "cell_type": "code",
   "execution_count": 15,
   "id": "7ed6c44d-cf35-4ded-90e6-1b59090171c3",
   "metadata": {},
   "outputs": [
    {
     "name": "stdout",
     "output_type": "stream",
     "text": [
      "LDA accuracy score: 0.736466\n",
      "Model (train set) accuracy score: 0.730061\n"
     ]
    }
   ],
   "source": [
    "X_train, X_test, y_train, y_test = train_test_split(X, y, test_size = 0.3, random_state = 0)\n",
    "model = LinearDiscriminantAnalysis()\n",
    "model.fit(X_train, y_train)\n",
    "y_pred = model.predict(X_test)\n",
    "\n",
    "from sklearn.metrics import accuracy_score\n",
    "print(\"LDA accuracy score: {0:04f}\".format(accuracy_score(y_test, y_pred)))\n",
    "y_pred_train = model.predict(X_train)\n",
    "print('Model (train set) accuracy score: {0:04f}'.format(accuracy_score(y_train, y_pred_train)))"
   ]
  },
  {
   "cell_type": "markdown",
   "id": "adce581b-05c1-483b-9313-23f7fd2bdb17",
   "metadata": {},
   "source": [
    "## Gridsearch for best parameters ##"
   ]
  },
  {
   "cell_type": "code",
   "execution_count": 30,
   "id": "fdf9d606-e41d-4ebd-8ee8-407f6e888fe6",
   "metadata": {},
   "outputs": [],
   "source": [
    "param_grid_lda = {\n",
    "    'solver': ['svd', 'lsqr', 'eigen'],  # Solver algorithm for LDA\n",
    "    'shrinkage': [None, 'auto', 0.1, 0.5, 1.0]  # Regularization to prevent overfitting (only for 'lsqr' or 'eigen')\n",
    "}\n",
    "# Note: If solver is 'svd', shrinkage must be None (ignored)"
   ]
  },
  {
   "cell_type": "code",
   "execution_count": 36,
   "id": "1b04b637-1e5f-4e8d-b94d-c823fd185108",
   "metadata": {},
   "outputs": [
    {
     "name": "stdout",
     "output_type": "stream",
     "text": [
      "Best Parameters:  {'shrinkage': None, 'solver': 'svd'}\n",
      "Best Model:  LinearDiscriminantAnalysis()\n",
      "Best Cross-Validation Accuracy: 0.73\n"
     ]
    }
   ],
   "source": [
    "grid_search_cv = GridSearchCV(estimator=model, param_grid=param_grid_lda, cv=5, n_jobs=1, verbose=0, scoring='accuracy')\n",
    "\n",
    "grid_search_cv.fit(X_train, y_train)\n",
    "\n",
    "best_params = grid_search_cv.best_params_\n",
    "best_model = grid_search_cv.best_estimator_\n",
    "\n",
    "print('Best Parameters: ', best_params)\n",
    "print('Best Model: ', best_model)\n",
    "\n",
    "best_accuracy = grid_search_cv.best_score_\n",
    "print(f'Best Cross-Validation Accuracy: {best_accuracy:.2f}')"
   ]
  },
  {
   "cell_type": "markdown",
   "id": "7ab308ae-a8ff-4e0c-a369-d0d428a9c3c4",
   "metadata": {},
   "source": [
    "## Best parameters ##"
   ]
  },
  {
   "cell_type": "code",
   "execution_count": 40,
   "id": "42de6de1-f518-470f-ba96-0cad65e14736",
   "metadata": {},
   "outputs": [
    {
     "name": "stdout",
     "output_type": "stream",
     "text": [
      "Linear discriminant analysis accuracy (best parameters): 0.745789\n",
      "Training set score: 0.7308\n",
      "Test set score: 0.7458\n"
     ]
    }
   ],
   "source": [
    "lda_best = LinearDiscriminantAnalysis(shrinkage=None, solver='svd')\n",
    "lda_best.fit(X_train, y_train)\n",
    "y_pred_best = lda_best.predict(X_test)\n",
    "print(\"Linear discriminant analysis accuracy (best parameters): {0:04f}\".format(accuracy_score(y_test, y_pred_best)))\n",
    "print('Training set score: {:.4f}'.format(lda_best.score(X_train, y_train)))\n",
    "print('Test set score: {:.4f}'.format(lda_best.score(X_test, y_test)))"
   ]
  },
  {
   "cell_type": "markdown",
   "id": "07f5dad5-0513-4710-b9d9-d0b22766cb9d",
   "metadata": {},
   "source": [
    "## Evaluation ##"
   ]
  },
  {
   "cell_type": "markdown",
   "id": "88bbc639-b70c-4798-8c58-60a49a963c0f",
   "metadata": {},
   "source": [
    "**Default parameters**"
   ]
  },
  {
   "cell_type": "code",
   "execution_count": 19,
   "id": "e97391f7-c298-4907-903e-a6aafbc54454",
   "metadata": {},
   "outputs": [
    {
     "name": "stdout",
     "output_type": "stream",
     "text": [
      "Final classification report:\n",
      "              precision    recall  f1-score   support\n",
      "\n",
      "           0       0.69      0.55      0.61       216\n",
      "           1       0.78      0.85      0.81       420\n",
      "           2       0.50      0.53      0.51        17\n",
      "\n",
      "    accuracy                           0.75       653\n",
      "   macro avg       0.65      0.65      0.65       653\n",
      "weighted avg       0.74      0.75      0.74       653\n",
      "\n"
     ]
    }
   ],
   "source": [
    "#For 20% test size\n",
    "from sklearn.metrics import classification_report, confusion_matrix\n",
    "print(\"Final classification report:\")\n",
    "print(classification_report(y_test, y_pred))"
   ]
  },
  {
   "cell_type": "markdown",
   "id": "427b2b3a-26e9-4f3a-9b0c-a1c730ab0af3",
   "metadata": {},
   "source": [
    "**Best parameters**"
   ]
  },
  {
   "cell_type": "code",
   "execution_count": 44,
   "id": "dc5cf68a-d52c-43f6-8a75-4ba397db7a10",
   "metadata": {},
   "outputs": [
    {
     "name": "stdout",
     "output_type": "stream",
     "text": [
      "Final classification report:\n",
      "              precision    recall  f1-score   support\n",
      "\n",
      "           0       0.69      0.55      0.61       216\n",
      "           1       0.78      0.85      0.81       420\n",
      "           2       0.50      0.53      0.51        17\n",
      "\n",
      "    accuracy                           0.75       653\n",
      "   macro avg       0.65      0.65      0.65       653\n",
      "weighted avg       0.74      0.75      0.74       653\n",
      "\n"
     ]
    }
   ],
   "source": [
    "#For 20% test size BEST PARAMETERS\n",
    "from sklearn.metrics import classification_report, confusion_matrix\n",
    "print(\"Final classification report:\")\n",
    "print(classification_report(y_test, y_pred))"
   ]
  },
  {
   "cell_type": "code",
   "execution_count": 27,
   "id": "3979031a-cd88-4617-bc79-fabe68d85560",
   "metadata": {},
   "outputs": [
    {
     "data": {
      "image/png": "[encoded data removed]",
      "text/plain": [
       "<Figure size 640x480 with 2 Axes>"
      ]
     },
     "metadata": {},
     "output_type": "display_data"
    }
   ],
   "source": [
    "sns.heatmap(confusion_matrix(y_test, y_pred), annot=True, fmt='d', cmap='YlGnBu')\n",
    "plt.title(\"Confusion Matrix - Test Set\")\n",
    "plt.xlabel(\"Predicted\")\n",
    "plt.ylabel(\"Actual\")\n",
    "plt.show()"
   ]
  }
 ],
 "metadata": {
  "kernelspec": {
   "display_name": "Python 3 (ipykernel)",
   "language": "python",
   "name": "python3"
  },
  "language_info": {
   "codemirror_mode": {
    "name": "ipython",
    "version": 3
   },
   "file_extension": ".py",
   "mimetype": "text/x-python",
   "name": "python",
   "nbconvert_exporter": "python",
   "pygments_lexer": "ipython3",
   "version": "3.12.4"
  }
 },
 "nbformat": 4,
 "nbformat_minor": 5
}
