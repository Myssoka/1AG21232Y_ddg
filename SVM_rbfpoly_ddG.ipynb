{
 "cells": [
  {
   "attachments": {},
   "cell_type": "markdown",
   "id": "dceb565f-8b32-4835-8f87-c6bc612eddb4",
   "metadata": {},
   "source": [
    "## FireProtDB - ddG Target Class (Multiclass classification) - SVM RBF Poly ##"
   ]
  },
  {
   "cell_type": "code",
   "execution_count": 6,
   "id": "83b4599e-2f3f-4166-b5a3-6c0cb14b5ddf",
   "metadata": {},
   "outputs": [
    {
     "name": "stdout",
     "output_type": "stream",
     "text": [
      "Setup Complete\n"
     ]
    }
   ],
   "source": [
    "import numpy as np\n",
    "import pandas as pd\n",
    "import matplotlib.pyplot as plt\n",
    "import seaborn as sns\n",
    "\n",
    "import warnings\n",
    "warnings.filterwarnings('ignore')\n",
    "\n",
    "from sklearn.svm import SVC\n",
    "from sklearn.metrics import accuracy_score\n",
    "from sklearn.model_selection import GridSearchCV, cross_val_score\n",
    "\n",
    "\n",
    "print('Setup Complete')"
   ]
  },
  {
   "cell_type": "code",
   "execution_count": 8,
   "id": "dca1afb1-ecd6-4799-a98c-283d93398bcd",
   "metadata": {},
   "outputs": [],
   "source": [
    "ddG_df = pd.read_csv('Apr10FireProtDB_FeatGen_targetclass.csv')\n",
    "ddG_df = ddG_df.dropna()\n",
    "ddG_df = ddG_df.drop(['protein_name',\n",
    "                      'uniprot_id',\n",
    "                      'ddG',\n",
    "                      'secondary_structure',\n",
    "                      'sequence',\n",
    "                      'MEC',\n",
    "                      'Aliphatic Index'], axis=1)\n",
    "\n",
    "y = ddG_df['target_class']\n",
    "X = ddG_df.drop(['target_class'], axis=1)"
   ]
  },
  {
   "cell_type": "markdown",
   "id": "c9c85f9e-6a44-445f-85bd-00cecf48a71a",
   "metadata": {},
   "source": [
    "## Radial basis function (rbf) ##"
   ]
  },
  {
   "cell_type": "markdown",
   "id": "f3603fb5-89be-49f9-8f2f-ede98d90caa9",
   "metadata": {},
   "source": [
    "**Test size 20%**"
   ]
  },
  {
   "cell_type": "code",
   "execution_count": 8,
   "id": "e2ef1ab7-1c36-49ca-897d-3d1e59070439",
   "metadata": {},
   "outputs": [],
   "source": [
    "from sklearn.model_selection import train_test_split, GridSearchCV\n",
    "X_train, X_test, y_train, y_test = train_test_split(X, y, test_size = 0.2, random_state = 0)"
   ]
  },
  {
   "cell_type": "markdown",
   "id": "bdde71b3-6f18-4d9d-aa01-ddfcda52ec5b",
   "metadata": {},
   "source": [
    "**Default parameters**"
   ]
  },
  {
   "cell_type": "code",
   "execution_count": 28,
   "id": "dc228c17-5468-48db-bedd-fb256f9994ce",
   "metadata": {},
   "outputs": [
    {
     "name": "stdout",
     "output_type": "stream",
     "text": [
      "Accuracy on train set: 0.5993\n",
      "Accuracy on test set: 0.6432\n"
     ]
    }
   ],
   "source": [
    "rbf_default = SVC(kernel= 'rbf', C=1)\n",
    "rbf_default.fit(X_train, y_train)\n",
    "\n",
    "y_train_default_pred = rbf_default.predict(X_train)\n",
    "default_train_accuracy = accuracy_score(y_train, y_train_default_pred)\n",
    "print(f\"Accuracy on train set: {default_train_accuracy:.04f}\")\n",
    "\n",
    "y_pred = rbf_default.predict(X_test)\n",
    "accuracy = accuracy_score(y_test, y_pred)\n",
    "print(f\"Accuracy on test set: {accuracy:.04f}\")"
   ]
  },
  {
   "cell_type": "markdown",
   "id": "95e4acdc-c2a7-4172-8988-73860898ec03",
   "metadata": {},
   "source": [
    "**Tuning parameters**"
   ]
  },
  {
   "cell_type": "code",
   "execution_count": 21,
   "id": "a765d80a-4ea8-4302-8021-a8aa3989703a",
   "metadata": {},
   "outputs": [
    {
     "name": "stdout",
     "output_type": "stream",
     "text": [
      "For C = 2, the cross-validated accuracy is 0.5993\n",
      "For C = 0.05, the cross-validated accuracy is 0.5993\n",
      "For C = 0.1, the cross-validated accuracy is 0.5993\n",
      "For C = 0.5, the cross-validated accuracy is 0.5993\n",
      "For C = 1, the cross-validated accuracy is 0.5993\n",
      "For C = 5, the cross-validated accuracy is 0.5993\n",
      "For C = 10, the cross-validated accuracy is 0.6020\n",
      "For C = 100, the cross-validated accuracy is 0.6292\n",
      "Best C value: 100\n",
      "Accuracy on train set: 0.6415\n",
      "Accuracy on test set: 0.6845\n",
      "CPU times: total: 27.5 s\n",
      "Wall time: 28 s\n"
     ]
    }
   ],
   "source": [
    "%%time\n",
    "param_grid = {'C': [2, 0.05, 0.1, 0.5, 1, 5, 10, 100]}\n",
    "svm_model = SVC(kernel = 'rbf')\n",
    "\n",
    "grid_search = GridSearchCV(svm_model, param_grid, cv=5, scoring='accuracy')\n",
    "grid_search.fit(X_train, y_train)\n",
    "\n",
    "# Print accuracy for each C\n",
    "for mean_score, C_value in zip(grid_search.cv_results_['mean_test_score'], param_grid['C']):\n",
    "    print(f\"For C = {C_value}, the cross-validated accuracy is {mean_score:.4f}\")\n",
    "\n",
    "best_C = grid_search.best_params_['C']\n",
    "print(f\"Best C value: {best_C}\")\n",
    "\n",
    "best_SVM = SVC(kernel= 'rbf', C=best_C)\n",
    "best_SVM.fit(X_train, y_train)\n",
    "\n",
    "y_train_pred = best_SVM.predict(X_train)\n",
    "train_accuracy = accuracy_score(y_train, y_train_pred)\n",
    "\n",
    "print(f\"Accuracy on train set: {train_accuracy:.04f}\")\n",
    "\n",
    "y_pred = best_SVM.predict(X_test)\n",
    "accuracy = accuracy_score(y_test, y_pred)\n",
    "\n",
    "print(f\"Accuracy on test set: {accuracy:.04f}\")"
   ]
  },
  {
   "cell_type": "markdown",
   "id": "4b61d936-b9da-46c2-8521-bb37f2cc8e58",
   "metadata": {},
   "source": [
    "**Test size 30%, C=1** (**NOTE: May 22, 2025 changes --> changing it to C=1 because that is default param.)"
   ]
  },
  {
   "cell_type": "code",
   "execution_count": 14,
   "id": "b7fea88c-d71f-4a9b-9524-9a2588b82a49",
   "metadata": {},
   "outputs": [],
   "source": [
    "from sklearn.model_selection import train_test_split, GridSearchCV\n",
    "X_train, X_test, y_train, y_test = train_test_split(X, y, test_size = 0.3, random_state = 0)"
   ]
  },
  {
   "cell_type": "code",
   "execution_count": 16,
   "id": "625fe151-0815-42b4-80a5-6d0e365bf292",
   "metadata": {},
   "outputs": [
    {
     "name": "stdout",
     "output_type": "stream",
     "text": [
      "Accuracy on train set: 0.6030\n",
      "Accuracy on test set: 0.6200\n"
     ]
    }
   ],
   "source": [
    "best_SVM = SVC(kernel= 'rbf', C=1)\n",
    "best_SVM.fit(X_train, y_train)\n",
    "\n",
    "#Train accuracy\n",
    "y_train_pred = best_SVM.predict(X_train)\n",
    "train_accuracy = accuracy_score(y_train, y_train_pred)\n",
    "print(f\"Accuracy on train set: {train_accuracy:.4f}\")\n",
    "\n",
    "#Test accuracy\n",
    "y_pred = best_SVM.predict(X_test)\n",
    "accuracy = accuracy_score(y_test, y_pred)\n",
    "print(f\"Accuracy on test set: {accuracy:.4f}\")"
   ]
  },
  {
   "cell_type": "markdown",
   "id": "96e4b8cd-1f15-4b9d-a9eb-492fd7bcafcf",
   "metadata": {},
   "source": [
    "## Evaluation - rbf ##"
   ]
  },
  {
   "cell_type": "code",
   "execution_count": 31,
   "id": "23452ac9-4e5c-4515-9096-766563facb5c",
   "metadata": {},
   "outputs": [
    {
     "name": "stdout",
     "output_type": "stream",
     "text": [
      "Final classification report:\n",
      "              precision    recall  f1-score   support\n",
      "\n",
      "           0       0.00      0.00      0.00       216\n",
      "           1       0.64      1.00      0.78       420\n",
      "           2       0.00      0.00      0.00        17\n",
      "\n",
      "    accuracy                           0.64       653\n",
      "   macro avg       0.21      0.33      0.26       653\n",
      "weighted avg       0.41      0.64      0.50       653\n",
      "\n"
     ]
    }
   ],
   "source": [
    "#For 20% test size\n",
    "from sklearn.metrics import classification_report, confusion_matrix\n",
    "print(\"Final classification report:\")\n",
    "print(classification_report(y_test, y_pred))"
   ]
  },
  {
   "cell_type": "code",
   "execution_count": 29,
   "id": "8ac6c6bd-20a7-4725-9358-0c76db0bc03f",
   "metadata": {},
   "outputs": [
    {
     "name": "stdout",
     "output_type": "stream",
     "text": [
      "Final classification report:\n",
      "              precision    recall  f1-score   support\n",
      "\n",
      "           0       0.77      0.12      0.22       216\n",
      "           1       0.68      0.99      0.80       420\n",
      "           2       0.83      0.29      0.43        17\n",
      "\n",
      "    accuracy                           0.68       653\n",
      "   macro avg       0.76      0.47      0.48       653\n",
      "weighted avg       0.71      0.68      0.60       653\n",
      "\n"
     ]
    }
   ],
   "source": [
    "#For 20% test size BEST PARAMETERS\n",
    "from sklearn.metrics import classification_report, confusion_matrix\n",
    "print(\"Final classification report:\")\n",
    "print(classification_report(y_test, y_pred))"
   ]
  },
  {
   "cell_type": "code",
   "execution_count": 31,
   "id": "bc16587c-dcd4-4145-b63b-a3cfc297e374",
   "metadata": {},
   "outputs": [
    {
     "data": {
      "image/png": "[encoded data removed]",
      "text/plain": [
       "<Figure size 640x480 with 2 Axes>"
      ]
     },
     "metadata": {},
     "output_type": "display_data"
    }
   ],
   "source": [
    "sns.heatmap(confusion_matrix(y_test, y_pred), annot=True, fmt='d', cmap='YlGnBu')\n",
    "plt.title(\"Confusion Matrix - Test Set\")\n",
    "plt.xlabel(\"Predicted\")\n",
    "plt.ylabel(\"Actual\")\n",
    "plt.show()"
   ]
  },
  {
   "cell_type": "markdown",
   "id": "5ff29435-5470-4e7e-b9d1-b59dff585820",
   "metadata": {},
   "source": [
    "## Polynomial (poly) ##"
   ]
  },
  {
   "cell_type": "markdown",
   "id": "1351b1c2-802d-4264-8439-a952ad90669a",
   "metadata": {},
   "source": [
    "**Test size 20%**"
   ]
  },
  {
   "cell_type": "code",
   "execution_count": 20,
   "id": "5148a0e8-3a40-4495-9607-42d14d66ed48",
   "metadata": {},
   "outputs": [],
   "source": [
    "from sklearn.model_selection import train_test_split, GridSearchCV\n",
    "X_train, X_test, y_train, y_test = train_test_split(X, y, test_size = 0.2, random_state = 0)"
   ]
  },
  {
   "cell_type": "markdown",
   "id": "e4b190ad-bdbe-4771-bac7-365c88a19452",
   "metadata": {},
   "source": [
    "**Default parameters**"
   ]
  },
  {
   "cell_type": "code",
   "execution_count": 23,
   "id": "e798cc04-369b-4913-803a-9bcd0f2a7e34",
   "metadata": {},
   "outputs": [
    {
     "name": "stdout",
     "output_type": "stream",
     "text": [
      "Accuracy on train set: 0.5993\n",
      "Accuracy on test set: 0.6432\n"
     ]
    }
   ],
   "source": [
    "poly_default = SVC(kernel= 'poly', C=1)\n",
    "poly_default.fit(X_train, y_train)\n",
    "\n",
    "y_train_default_pred = poly_default.predict(X_train)\n",
    "default_train_accuracy = accuracy_score(y_train, y_train_default_pred)\n",
    "print(f\"Accuracy on train set: {default_train_accuracy:.04f}\")\n",
    "\n",
    "y_pred = poly_default.predict(X_test)\n",
    "accuracy = accuracy_score(y_test, y_pred)\n",
    "print(f\"Accuracy on test set: {accuracy:.04f}\")"
   ]
  },
  {
   "cell_type": "code",
   "execution_count": 27,
   "id": "1425d1f8-a5d6-4654-8268-aa2253920a99",
   "metadata": {},
   "outputs": [
    {
     "name": "stdout",
     "output_type": "stream",
     "text": [
      "For C = 2, the cross-validated accuracy is 0.5993\n",
      "For C = 0.05, the cross-validated accuracy is 0.5993\n",
      "For C = 0.1, the cross-validated accuracy is 0.5993\n",
      "For C = 0.5, the cross-validated accuracy is 0.5993\n",
      "For C = 1, the cross-validated accuracy is 0.5993\n",
      "For C = 5, the cross-validated accuracy is 0.5993\n",
      "For C = 10, the cross-validated accuracy is 0.5993\n",
      "For C = 100, the cross-validated accuracy is 0.5993\n",
      "Best C value: 2\n",
      "Accuracy on train set: 0.5993\n",
      "Accuracy on test set: 0.6432\n",
      "CPU times: total: 1min 14s\n",
      "Wall time: 1min 14s\n"
     ]
    }
   ],
   "source": [
    "%%time\n",
    "\n",
    "from sklearn.svm import SVC\n",
    "from sklearn.metrics import accuracy_score\n",
    "\n",
    "param_grid = {'C': [2, 0.05, 0.1, 0.5, 1, 5, 10, 100]}\n",
    "\n",
    "svm_model = SVC(kernel = 'poly')\n",
    "\n",
    "grid_search = GridSearchCV(svm_model, param_grid, cv=5, scoring='accuracy')\n",
    "grid_search.fit(X_train, y_train)\n",
    "\n",
    "# Print accuracy for each C\n",
    "for mean_score, C_value in zip(grid_search.cv_results_['mean_test_score'], param_grid['C']):\n",
    "    print(f\"For C = {C_value}, the cross-validated accuracy is {mean_score:.4f}\")\n",
    "\n",
    "best_C = grid_search.best_params_['C']\n",
    "print(f\"Best C value: {best_C}\")\n",
    "\n",
    "best_SVM = SVC(kernel= 'poly', C=best_C)\n",
    "best_SVM.fit(X_train, y_train)\n",
    "\n",
    "y_train_pred = best_SVM.predict(X_train)\n",
    "train_accuracy = accuracy_score(y_train, y_train_pred)\n",
    "\n",
    "print(f\"Accuracy on train set: {train_accuracy:.04f}\")\n",
    "\n",
    "y_pred = best_SVM.predict(X_test)\n",
    "accuracy = accuracy_score(y_test, y_pred)\n",
    "\n",
    "print(f\"Accuracy on test set: {accuracy:.04f}\")"
   ]
  },
  {
   "cell_type": "markdown",
   "id": "3e452602-6c76-4764-9481-32c96d7f5c2a",
   "metadata": {},
   "source": [
    "**Test size 30%, C=1** (ALSO CHANGED)"
   ]
  },
  {
   "cell_type": "code",
   "execution_count": 16,
   "id": "34d212d2-2832-483f-9a28-ce7a9e2c757e",
   "metadata": {},
   "outputs": [],
   "source": [
    "from sklearn.model_selection import train_test_split, GridSearchCV\n",
    "X_train, X_test, y_train, y_test = train_test_split(X, y, test_size = 0.3, random_state = 0)"
   ]
  },
  {
   "cell_type": "code",
   "execution_count": 18,
   "id": "927c0a0f-d29a-43ce-9c59-96fed42b0a8a",
   "metadata": {},
   "outputs": [
    {
     "name": "stdout",
     "output_type": "stream",
     "text": [
      "Accuracy on train set: 0.6030\n",
      "Accuracy on test set: 0.6200\n"
     ]
    }
   ],
   "source": [
    "best_SVM = SVC(kernel= 'poly', C=1)\n",
    "best_SVM.fit(X_train, y_train)\n",
    "\n",
    "#Train accuracy\n",
    "y_train_pred = best_SVM.predict(X_train)\n",
    "train_accuracy = accuracy_score(y_train, y_train_pred)\n",
    "print(f\"Accuracy on train set: {train_accuracy:.4f}\")\n",
    "\n",
    "#Test accuracy\n",
    "y_pred = best_SVM.predict(X_test)\n",
    "accuracy = accuracy_score(y_test, y_pred)\n",
    "print(f\"Accuracy on test set: {accuracy:.4f}\")"
   ]
  },
  {
   "cell_type": "markdown",
   "id": "8454863e-5208-4097-907e-9c120cab7058",
   "metadata": {},
   "source": [
    "## Evaluation - poly ##"
   ]
  },
  {
   "cell_type": "code",
   "execution_count": 25,
   "id": "a5de6cc1-7303-4fb8-b79d-1387f17047c6",
   "metadata": {},
   "outputs": [
    {
     "name": "stdout",
     "output_type": "stream",
     "text": [
      "Final classification report:\n",
      "              precision    recall  f1-score   support\n",
      "\n",
      "           0       0.00      0.00      0.00       216\n",
      "           1       0.64      1.00      0.78       420\n",
      "           2       0.00      0.00      0.00        17\n",
      "\n",
      "    accuracy                           0.64       653\n",
      "   macro avg       0.21      0.33      0.26       653\n",
      "weighted avg       0.41      0.64      0.50       653\n",
      "\n"
     ]
    }
   ],
   "source": [
    "#For 20% test size\n",
    "from sklearn.metrics import classification_report, confusion_matrix\n",
    "print(\"Final classification report:\")\n",
    "print(classification_report(y_test, y_pred))"
   ]
  },
  {
   "cell_type": "code",
   "execution_count": 29,
   "id": "205bc6ff-14a5-4f4b-bd22-8f29248f474a",
   "metadata": {},
   "outputs": [
    {
     "name": "stdout",
     "output_type": "stream",
     "text": [
      "Final classification report:\n",
      "              precision    recall  f1-score   support\n",
      "\n",
      "           0       0.00      0.00      0.00       216\n",
      "           1       0.64      1.00      0.78       420\n",
      "           2       0.00      0.00      0.00        17\n",
      "\n",
      "    accuracy                           0.64       653\n",
      "   macro avg       0.21      0.33      0.26       653\n",
      "weighted avg       0.41      0.64      0.50       653\n",
      "\n"
     ]
    }
   ],
   "source": [
    "#For 20% test size BEST PARAMETERS\n",
    "from sklearn.metrics import classification_report, confusion_matrix\n",
    "print(\"Final classification report:\")\n",
    "print(classification_report(y_test, y_pred))"
   ]
  },
  {
   "cell_type": "code",
   "execution_count": 47,
   "id": "e90e0c58-1811-43ec-a121-3abd193256e8",
   "metadata": {},
   "outputs": [
    {
     "data": {
      "image/png": "[encoded data removed]",
      "text/plain": [
       "<Figure size 640x480 with 2 Axes>"
      ]
     },
     "metadata": {},
     "output_type": "display_data"
    }
   ],
   "source": [
    "sns.heatmap(confusion_matrix(y_test, y_pred), annot=True, fmt='d', cmap='YlGnBu')\n",
    "plt.title(\"Confusion Matrix - Test Set\")\n",
    "plt.xlabel(\"Predicted\")\n",
    "plt.ylabel(\"Actual\")\n",
    "plt.show()"
   ]
  },
  {
   "cell_type": "markdown",
   "id": "67e384f7-cbab-4c65-8397-e4a1770d8554",
   "metadata": {},
   "source": [
    "## 🌱 Random Seed RBF ##"
   ]
  },
  {
   "cell_type": "code",
   "execution_count": 7,
   "id": "6a8c99f6-07cf-4e67-8eb1-9e2720d3d3c9",
   "metadata": {},
   "outputs": [
    {
     "name": "stdout",
     "output_type": "stream",
     "text": [
      "Seed: 7, F1 Score: 0.6386\n",
      "Seed: 19, F1 Score: 0.6570\n",
      "Seed: 23, F1 Score: 0.6248\n",
      "Seed: 41, F1 Score: 0.6524\n",
      "Seed: 53, F1 Score: 0.6355\n",
      "Seed: 67, F1 Score: 0.6478\n",
      "Seed: 89, F1 Score: 0.6355\n",
      "Seed: 97, F1 Score: 0.6386\n",
      "Seed: 113, F1 Score: 0.6355\n",
      "Seed: 149, F1 Score: 0.6585\n",
      "Seed: 173, F1 Score: 0.6432\n",
      "Seed: 211, F1 Score: 0.6355\n",
      "Seed: 251, F1 Score: 0.6585\n",
      "Seed: 283, F1 Score: 0.6600\n",
      "Seed: 313, F1 Score: 0.6539\n",
      "CPU times: total: 6.81 s\n",
      "Wall time: 6.86 s\n"
     ]
    }
   ],
   "source": [
    "%%time\n",
    "\n",
    "from sklearn.model_selection import train_test_split\n",
    "from sklearn.metrics import f1_score\n",
    "\n",
    "f1_scores = []\n",
    "\n",
    "seeds = [7, 19, 23, 41, 53, 67, 89, 97, 113, 149, 173, 211, 251, 283, 313]\n",
    "#Prime numbers increase distribution randomness\n",
    "\n",
    "for seed in seeds:\n",
    "    X_train, X_test, y_train, y_test = train_test_split(X, y, test_size = 0.2, random_state = seed)\n",
    "    \n",
    "    randseedRBF = SVC(kernel= 'rbf', C=100)\n",
    "    randseedRBF.fit(X_train, y_train)\n",
    "    \n",
    "    y_pred = randseedRBF.predict(X_test)\n",
    "    score = f1_score(y_test, y_pred, average='micro')\n",
    "    f1_scores.append(score)\n",
    "    print(f\"Seed: {seed}, F1 Score: {score:.4f}\")"
   ]
  },
  {
   "cell_type": "code",
   "execution_count": 9,
   "id": "2833d6bd-67b1-4d4d-9591-de6e40b9b952",
   "metadata": {},
   "outputs": [
    {
     "name": "stdout",
     "output_type": "stream",
     "text": [
      "Mean F1 Score: 0.6450\n",
      "Standard Deviation: 0.0111\n"
     ]
    }
   ],
   "source": [
    "import statistics\n",
    "\n",
    "std_f1 = statistics.stdev(f1_scores)\n",
    "mean_f1 = statistics.mean(f1_scores)\n",
    "\n",
    "print(f\"Mean F1 Score: {mean_f1:.4f}\")\n",
    "print(f\"Standard Deviation: {std_f1:.4f}\")"
   ]
  },
  {
   "cell_type": "code",
   "execution_count": 10,
   "id": "2e042c05-10b1-4f7c-be1a-e89fbdaadb5b",
   "metadata": {},
   "outputs": [
    {
     "name": "stdout",
     "output_type": "stream",
     "text": [
      "Seed: 7, F1 Score: 0.6386\n",
      "Seed: 11, F1 Score: 0.6677\n",
      "Seed: 16, F1 Score: 0.6570\n",
      "Seed: 23, F1 Score: 0.6248\n",
      "Seed: 31, F1 Score: 0.6401\n",
      "Seed: 49, F1 Score: 0.6233\n",
      "Seed: 56, F1 Score: 0.6554\n",
      "Seed: 60, F1 Score: 0.6616\n",
      "Seed: 71, F1 Score: 0.6646\n",
      "Seed: 79, F1 Score: 0.6631\n",
      "Seed: 91, F1 Score: 0.6769\n",
      "Seed: 117, F1 Score: 0.6600\n",
      "Seed: 124, F1 Score: 0.6386\n",
      "Seed: 126, F1 Score: 0.6248\n",
      "Seed: 147, F1 Score: 0.6401\n",
      "Seed: 157, F1 Score: 0.6309\n",
      "Seed: 186, F1 Score: 0.6371\n",
      "Seed: 193, F1 Score: 0.6753\n",
      "Seed: 215, F1 Score: 0.6799\n",
      "Seed: 221, F1 Score: 0.6493\n",
      "Seed: 239, F1 Score: 0.6478\n",
      "Seed: 244, F1 Score: 0.6447\n",
      "Seed: 252, F1 Score: 0.6279\n",
      "Seed: 261, F1 Score: 0.6769\n",
      "Seed: 273, F1 Score: 0.6386\n",
      "Seed: 276, F1 Score: 0.6524\n",
      "Seed: 282, F1 Score: 0.6616\n",
      "Seed: 289, F1 Score: 0.6554\n",
      "Seed: 303, F1 Score: 0.6340\n",
      "Seed: 307, F1 Score: 0.6554\n",
      "Seed: 313, F1 Score: 0.6539\n",
      "Seed: 322, F1 Score: 0.6600\n",
      "Seed: 338, F1 Score: 0.6417\n",
      "Seed: 346, F1 Score: 0.6616\n",
      "Seed: 355, F1 Score: 0.6355\n",
      "Seed: 367, F1 Score: 0.6340\n",
      "Seed: 368, F1 Score: 0.6585\n",
      "Seed: 382, F1 Score: 0.6738\n",
      "Seed: 398, F1 Score: 0.6110\n",
      "Seed: 401, F1 Score: 0.6478\n",
      "Seed: 409, F1 Score: 0.6753\n",
      "Seed: 429, F1 Score: 0.6386\n",
      "Seed: 436, F1 Score: 0.6677\n",
      "Seed: 447, F1 Score: 0.6279\n",
      "Seed: 462, F1 Score: 0.6570\n",
      "Seed: 464, F1 Score: 0.6539\n",
      "Seed: 468, F1 Score: 0.6570\n",
      "Seed: 474, F1 Score: 0.6539\n",
      "Seed: 496, F1 Score: 0.6508\n",
      "Seed: 499, F1 Score: 0.6845\n",
      "CPU times: total: 54.2 s\n",
      "Wall time: 55.4 s\n"
     ]
    }
   ],
   "source": [
    "%%time\n",
    "\n",
    "from sklearn.model_selection import train_test_split\n",
    "from sklearn.metrics import f1_score\n",
    "\n",
    "f1_scores = []\n",
    "\n",
    "seed50 = [7, 11, 16, 23, 31, 49, 56, 60, 71, 79,\n",
    "         91, 117, 124, 126, 147, 157, 186, 193, 215, 221,\n",
    "         239, 244, 252, 261, 273, 276, 282, 289, 303, 307,\n",
    "         313, 322, 338, 346, 355, 367, 368, 382, 398, 401,\n",
    "         409, 429, 436, 447, 462, 464, 468, 474, 496, 499]\n",
    "\n",
    "for seed in seed50:\n",
    "    X_train, X_test, y_train, y_test = train_test_split(X, y, test_size = 0.2, random_state = seed)\n",
    "    \n",
    "    randseedRBF = SVC(kernel= 'rbf', C=100)\n",
    "    randseedRBF.fit(X_train, y_train)\n",
    "    \n",
    "    y_pred = randseedRBF.predict(X_test)\n",
    "    score = f1_score(y_test, y_pred, average='micro')\n",
    "    f1_scores.append(score)\n",
    "    print(f\"Seed: {seed}, F1 Score: {score:.4f}\")"
   ]
  },
  {
   "cell_type": "code",
   "execution_count": 12,
   "id": "35ccd951-6f9f-449b-adde-ecf2c4eefe77",
   "metadata": {},
   "outputs": [
    {
     "name": "stdout",
     "output_type": "stream",
     "text": [
      "Mean F1 Score: 0.6510\n",
      "Standard Deviation: 0.0168\n"
     ]
    }
   ],
   "source": [
    "import statistics\n",
    "\n",
    "std_f1 = statistics.stdev(f1_scores)\n",
    "mean_f1 = statistics.mean(f1_scores)\n",
    "\n",
    "print(f\"Mean F1 Score: {mean_f1:.4f}\")\n",
    "print(f\"Standard Deviation: {std_f1:.4f}\")"
   ]
  },
  {
   "cell_type": "markdown",
   "id": "b308f567-3cef-480d-bdd5-ed4389f97b0a",
   "metadata": {},
   "source": [
    "## 🌱 Random Seed poly ##"
   ]
  },
  {
   "cell_type": "code",
   "execution_count": 12,
   "id": "b3714c6c-1809-4713-bb69-932a0ab304e0",
   "metadata": {},
   "outputs": [
    {
     "name": "stdout",
     "output_type": "stream",
     "text": [
      "Seed: 7, F1 Score: 0.5881\n",
      "Seed: 19, F1 Score: 0.6172\n",
      "Seed: 23, F1 Score: 0.5881\n",
      "Seed: 41, F1 Score: 0.6233\n",
      "Seed: 53, F1 Score: 0.6064\n",
      "Seed: 67, F1 Score: 0.6126\n",
      "Seed: 89, F1 Score: 0.5957\n",
      "Seed: 97, F1 Score: 0.6034\n",
      "Seed: 113, F1 Score: 0.5957\n",
      "Seed: 149, F1 Score: 0.6064\n",
      "Seed: 173, F1 Score: 0.6034\n",
      "Seed: 211, F1 Score: 0.5896\n",
      "Seed: 251, F1 Score: 0.6110\n",
      "Seed: 283, F1 Score: 0.6064\n",
      "Seed: 313, F1 Score: 0.6095\n",
      "CPU times: total: 36.8 s\n",
      "Wall time: 37.4 s\n"
     ]
    }
   ],
   "source": [
    "%%time\n",
    "\n",
    "from sklearn.model_selection import train_test_split\n",
    "from sklearn.metrics import f1_score\n",
    "\n",
    "f1_scores = []\n",
    "\n",
    "seeds = [7, 19, 23, 41, 53, 67, 89, 97, 113, 149, 173, 211, 251, 283, 313]\n",
    "#Prime numbers increase distribution randomness\n",
    "\n",
    "for seed in seeds:\n",
    "    X_train, X_test, y_train, y_test = train_test_split(X, y, test_size = 0.2, random_state = seed)\n",
    "    \n",
    "    randseedPOLY = SVC(kernel= 'poly', C=2)\n",
    "    randseedPOLY.fit(X_train, y_train)\n",
    "    \n",
    "    y_pred = randseedPOLY.predict(X_test)\n",
    "    score = f1_score(y_test, y_pred, average='micro')\n",
    "    f1_scores.append(score)\n",
    "    print(f\"Seed: {seed}, F1 Score: {score:.4f}\")"
   ]
  },
  {
   "cell_type": "code",
   "execution_count": 14,
   "id": "c4367bf8-6d3c-4334-9262-868b41695b08",
   "metadata": {},
   "outputs": [
    {
     "name": "stdout",
     "output_type": "stream",
     "text": [
      "Mean F1 Score: 0.6038\n",
      "Standard Deviation: 0.0106\n"
     ]
    }
   ],
   "source": [
    "import statistics\n",
    "\n",
    "std_f1 = statistics.stdev(f1_scores)\n",
    "mean_f1 = statistics.mean(f1_scores)\n",
    "\n",
    "print(f\"Mean F1 Score: {mean_f1:.4f}\")\n",
    "print(f\"Standard Deviation: {std_f1:.4f}\")"
   ]
  },
  {
   "cell_type": "code",
   "execution_count": 14,
   "id": "9b260bc6-7d2f-41dd-b0ee-b974bc3562c4",
   "metadata": {},
   "outputs": [
    {
     "name": "stdout",
     "output_type": "stream",
     "text": [
      "Seed: 7, F1 Score: 0.5881\n",
      "Seed: 11, F1 Score: 0.6263\n",
      "Seed: 16, F1 Score: 0.6233\n",
      "Seed: 23, F1 Score: 0.5881\n",
      "Seed: 31, F1 Score: 0.6003\n",
      "Seed: 49, F1 Score: 0.5773\n",
      "Seed: 56, F1 Score: 0.6110\n",
      "Seed: 60, F1 Score: 0.6172\n",
      "Seed: 71, F1 Score: 0.6340\n",
      "Seed: 79, F1 Score: 0.6217\n",
      "Seed: 91, F1 Score: 0.6325\n",
      "Seed: 117, F1 Score: 0.6355\n",
      "Seed: 124, F1 Score: 0.5972\n",
      "Seed: 126, F1 Score: 0.6003\n",
      "Seed: 147, F1 Score: 0.6003\n",
      "Seed: 157, F1 Score: 0.5988\n",
      "Seed: 186, F1 Score: 0.5881\n",
      "Seed: 193, F1 Score: 0.6248\n",
      "Seed: 215, F1 Score: 0.6294\n",
      "Seed: 221, F1 Score: 0.6003\n",
      "Seed: 239, F1 Score: 0.6095\n",
      "Seed: 244, F1 Score: 0.6049\n",
      "Seed: 252, F1 Score: 0.5988\n",
      "Seed: 261, F1 Score: 0.6340\n",
      "Seed: 273, F1 Score: 0.5942\n",
      "Seed: 276, F1 Score: 0.6156\n",
      "Seed: 282, F1 Score: 0.6294\n",
      "Seed: 289, F1 Score: 0.6080\n",
      "Seed: 303, F1 Score: 0.5926\n",
      "Seed: 307, F1 Score: 0.6049\n",
      "Seed: 313, F1 Score: 0.6095\n",
      "Seed: 322, F1 Score: 0.6095\n",
      "Seed: 338, F1 Score: 0.5957\n",
      "Seed: 346, F1 Score: 0.6340\n",
      "Seed: 355, F1 Score: 0.5896\n",
      "Seed: 367, F1 Score: 0.6018\n",
      "Seed: 368, F1 Score: 0.6141\n",
      "Seed: 382, F1 Score: 0.6172\n",
      "Seed: 398, F1 Score: 0.5789\n",
      "Seed: 401, F1 Score: 0.6064\n",
      "Seed: 409, F1 Score: 0.6126\n",
      "Seed: 429, F1 Score: 0.5988\n",
      "Seed: 436, F1 Score: 0.6217\n",
      "Seed: 447, F1 Score: 0.5926\n",
      "Seed: 462, F1 Score: 0.6202\n",
      "Seed: 464, F1 Score: 0.6233\n",
      "Seed: 468, F1 Score: 0.6187\n",
      "Seed: 474, F1 Score: 0.6156\n",
      "Seed: 496, F1 Score: 0.6064\n",
      "Seed: 499, F1 Score: 0.6233\n",
      "CPU times: total: 4min 21s\n",
      "Wall time: 4min 31s\n"
     ]
    }
   ],
   "source": [
    "%%time\n",
    "\n",
    "from sklearn.model_selection import train_test_split\n",
    "from sklearn.metrics import f1_score\n",
    "\n",
    "f1_scores = []\n",
    "\n",
    "seed50 = [7, 11, 16, 23, 31, 49, 56, 60, 71, 79,\n",
    "         91, 117, 124, 126, 147, 157, 186, 193, 215, 221,\n",
    "         239, 244, 252, 261, 273, 276, 282, 289, 303, 307,\n",
    "         313, 322, 338, 346, 355, 367, 368, 382, 398, 401,\n",
    "         409, 429, 436, 447, 462, 464, 468, 474, 496, 499]\n",
    "\n",
    "for seed in seed50:\n",
    "    X_train, X_test, y_train, y_test = train_test_split(X, y, test_size = 0.2, random_state = seed)\n",
    "    \n",
    "    randseedPOLY = SVC(kernel= 'poly', C=2)\n",
    "    randseedPOLY.fit(X_train, y_train)\n",
    "    \n",
    "    y_pred = randseedPOLY.predict(X_test)\n",
    "    score = f1_score(y_test, y_pred, average='micro')\n",
    "    f1_scores.append(score)\n",
    "    print(f\"Seed: {seed}, F1 Score: {score:.4f}\")"
   ]
  },
  {
   "cell_type": "code",
   "execution_count": 16,
   "id": "0007a04a-4fe4-44c4-8d7e-98249e6b95b3",
   "metadata": {},
   "outputs": [
    {
     "name": "stdout",
     "output_type": "stream",
     "text": [
      "Mean F1 Score: 0.6095\n",
      "Standard Deviation: 0.0152\n"
     ]
    }
   ],
   "source": [
    "import statistics\n",
    "\n",
    "std_f1 = statistics.stdev(f1_scores)\n",
    "mean_f1 = statistics.mean(f1_scores)\n",
    "\n",
    "print(f\"Mean F1 Score: {mean_f1:.4f}\")\n",
    "print(f\"Standard Deviation: {std_f1:.4f}\")"
   ]
  }
 ],
 "metadata": {
  "kernelspec": {
   "display_name": "Python 3 (ipykernel)",
   "language": "python",
   "name": "python3"
  },
  "language_info": {
   "codemirror_mode": {
    "name": "ipython",
    "version": 3
   },
   "file_extension": ".py",
   "mimetype": "text/x-python",
   "name": "python",
   "nbconvert_exporter": "python",
   "pygments_lexer": "ipython3",
   "version": "3.12.4"
  }
 },
 "nbformat": 4,
 "nbformat_minor": 5
}
